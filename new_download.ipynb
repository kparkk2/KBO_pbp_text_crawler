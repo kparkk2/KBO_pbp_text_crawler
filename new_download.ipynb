{
 "cells": [
  {
   "cell_type": "code",
   "execution_count": 1,
   "metadata": {},
   "outputs": [
    {
     "name": "stderr",
     "output_type": "stream",
     "text": [
      "C:\\Anaconda3\\lib\\site-packages\\statsmodels\\tools\\_testing.py:19: FutureWarning: pandas.util.testing is deprecated. Use the functions in the public API at pandas.testing instead.\n",
      "  import pandas.util.testing as tm\n"
     ]
    }
   ],
   "source": [
    "%matplotlib inline\n",
    "%load_ext autoreload\n",
    "\n",
    "%autoreload 2\n",
    "\n",
    "# pandas 모듈은 흔히 pd라는 약칭으로 사용된다. Global 표준에 가깝다.\n",
    "import pandas as pd\n",
    "import time\n",
    "from IPython.display import HTML\n",
    "from IPython.display import display\n",
    "\n",
    "# 커스텀 라이브러리를 import한다.\n",
    "from pbp_plot import *\n",
    "from misc import *\n",
    "\n",
    "# precision 세팅을 한다. 내부 값은 소수점 5자리까지 표시되도록 저장하고, display 시에는 1자리로 표시하도록 한다.\n",
    "pd.set_option('precision', 5)\n",
    "pd.set_option('display.float_format', lambda x: '%.1f' % x)\n",
    "#set_fonts()"
   ]
  },
  {
   "cell_type": "code",
   "execution_count": 2,
   "metadata": {},
   "outputs": [],
   "source": [
    "import datetime\n",
    "import requests\n",
    "from bs4 import BeautifulSoup\n",
    "import time\n",
    "from dateutil.relativedelta import relativedelta"
   ]
  },
  {
   "cell_type": "code",
   "execution_count": 3,
   "metadata": {},
   "outputs": [],
   "source": [
    "def get_game_ids(start_date, end_date):\n",
    "    timetable_url = 'https://sports.news.naver.com/'\\\n",
    "                    'kbaseball/schedule/index.nhn?month='\n",
    "    \n",
    "    mon1 = start_date.replace(day=1)\n",
    "    r = []\n",
    "    while mon1 <= end_date:\n",
    "        r.append(mon1)\n",
    "        mon1 += relativedelta(months=1)\n",
    "    \n",
    "    game_ids = []\n",
    "    \n",
    "    for d in r:\n",
    "        month = d.month\n",
    "        year = d.year\n",
    "        \n",
    "        sch_url = timetable_url + f'{month}&year={year}'\n",
    "\n",
    "        response = requests.get(sch_url)\n",
    "        soup = BeautifulSoup(response.text, 'lxml')\n",
    "        response.close()\n",
    "\n",
    "        buttons = soup.findAll('span',\n",
    "                               attrs={'class': 'td_btn'})\n",
    "\n",
    "        for btn in buttons:\n",
    "            gid = btn.a['href'].split('gameId=')[1]\n",
    "            gid_date = datetime.date(int(gid[:4]),\n",
    "                                     int(gid[4:6]),\n",
    "                                     int(gid[6:8]))\n",
    "            if start_date <= gid_date <= end_date:\n",
    "                game_ids.append(gid)\n",
    "    return game_ids"
   ]
  },
  {
   "cell_type": "code",
   "execution_count": 4,
   "metadata": {},
   "outputs": [
    {
     "name": "stdout",
     "output_type": "stream",
     "text": [
      "elapsed time: 0.43 sec\n",
      "len(gids): 41\n"
     ]
    }
   ],
   "source": [
    "start_date=datetime.date(2018, 3, 21)\n",
    "end_date=datetime.date(2018, 4, 2)\n",
    "start_time = time.time()\n",
    "game_ids = get_game_ids(start_date, end_date)\n",
    "print(f'elapsed time: {(time.time() - start_time):.2f} sec')\n",
    "print(f'len(gids): {len(game_ids)}')"
   ]
  },
  {
   "cell_type": "code",
   "execution_count": 5,
   "metadata": {},
   "outputs": [],
   "source": [
    "from tqdm import tqdm, tqdm_notebook, trange\n",
    "import json"
   ]
  },
  {
   "cell_type": "markdown",
   "metadata": {},
   "source": [
    "20180717LGWO02018"
   ]
  },
  {
   "cell_type": "code",
   "execution_count": 412,
   "metadata": {},
   "outputs": [
    {
     "name": "stderr",
     "output_type": "stream",
     "text": [
      "100%|██████████| 1/1 [00:01<00:00,  1.23s/it]"
     ]
    },
    {
     "name": "stdout",
     "output_type": "stream",
     "text": [
      "schedule get time: 0.19 sec\n",
      "get json time: 1.24 sec\n"
     ]
    },
    {
     "name": "stderr",
     "output_type": "stream",
     "text": [
      "\n"
     ]
    }
   ],
   "source": [
    "start_date=datetime.date(2017, 7, 8)\n",
    "end_date=datetime.date(2017, 7, 8)\n",
    "\n",
    "start_time1 = time.time()\n",
    "#########################################\n",
    "relay_url = 'http://m.sports.naver.com/ajax/baseball/'\\\n",
    "            'gamecenter/kbo/relayText.nhn'\n",
    "record_url = 'http://m.sports.naver.com/ajax/baseball/'\\\n",
    "            'gamecenter/kbo/record.nhn'\n",
    "\n",
    "now = datetime.datetime.now().date()\n",
    "\n",
    "game_ids = get_game_ids(start_date, end_date)\n",
    "end_time1 = time.time()\n",
    "\n",
    "skipped = 0\n",
    "done = 0\n",
    "start_time2 = time.time()\n",
    "for gid in tqdm([game_ids[1]]):\n",
    "    gid_to_date = datetime.date(int(gid[:4]),\n",
    "                                int(gid[4:6]),\n",
    "                                int(gid[6:8]))\n",
    "    if gid_to_date > now:\n",
    "        skipped += 1\n",
    "        continue\n",
    "    params = {\n",
    "                'gameId': gid,\n",
    "                'half': '1'\n",
    "            }\n",
    "\n",
    "    headers = {\n",
    "        'User-Agent': 'Mozilla/5.0 (Windows NT 10.0; Win64; x64)'\n",
    "                      'AppleWebKit/537.36 (KHTML, like Gecko) '\n",
    "                      'Chrome/59.0.3071.115 Safari/537.36',\n",
    "        'X-Requested-With': 'XMLHttpRequest',\n",
    "        'Host': 'm.sports.naver.com',\n",
    "        'Referer': 'http://m.sports.naver.com/baseball/gamecenter/kbo/index.nhn?&gameId='\n",
    "                   + gid\n",
    "                   + '&tab=relay'\n",
    "    }\n",
    "    \n",
    "    response = requests.get(relay_url,\n",
    "                            params=params,\n",
    "                            headers=headers)\n",
    "    if response is None:\n",
    "        skipped += 1\n",
    "        continue\n",
    "    \n",
    "    js = response.json()\n",
    "    if isinstance(js, str):\n",
    "        js = json.loads(js)\n",
    "    response.close()\n",
    "    last_inning = js['currentInning']\n",
    "\n",
    "    if last_inning is None:\n",
    "        skipped += 1\n",
    "        continue\n",
    "\n",
    "    txt = {}\n",
    "    txt['relayList'] = []\n",
    "    for x in js['relayList']:\n",
    "        txt['relayList'].append(x)\n",
    "\n",
    "    txt['homeTeamLineUp'] = js['homeTeamLineUp']\n",
    "    txt['awayTeamLineUp'] = js['awayTeamLineUp']\n",
    "\n",
    "    txt['stadium'] = js['schedule']['stadium']\n",
    "    \n",
    "    for inn in range(2, last_inning + 1):\n",
    "        params = {\n",
    "            'gameId': gid,\n",
    "            'half': str(inn)\n",
    "        }\n",
    "\n",
    "        response = requests.get(relay_url, params=params, headers=headers)\n",
    "        if response is not None:\n",
    "            js = response.json()\n",
    "            if isinstance(js, str):\n",
    "                js = json.loads(js)\n",
    "            response.close()\n",
    "            for x in js['relayList']:\n",
    "                txt['relayList'].append(x)\n",
    "        else:\n",
    "            skipped += 1\n",
    "            response.close()\n",
    "            break\n",
    "end_time2 = time.time()\n",
    "\n",
    "print(f'schedule get time: {(end_time1 - start_time1):.2f} sec')\n",
    "print(f'get json time: {(end_time2 - start_time2):.2f} sec')"
   ]
  },
  {
   "cell_type": "code",
   "execution_count": 411,
   "metadata": {},
   "outputs": [
    {
     "data": {
      "text/plain": [
       "['20170708HHLG02017',\n",
       " '20170708HTKT02017',\n",
       " '20170708SKLT02017',\n",
       " '20170708WOSS02017']"
      ]
     },
     "execution_count": 411,
     "metadata": {},
     "output_type": "execute_result"
    }
   ],
   "source": [
    "game_ids"
   ]
  },
  {
   "cell_type": "code",
   "execution_count": 413,
   "metadata": {},
   "outputs": [
    {
     "data": {
      "text/plain": [
       "'20170708HTKT02017'"
      ]
     },
     "execution_count": 413,
     "metadata": {},
     "output_type": "execute_result"
    }
   ],
   "source": [
    "gid"
   ]
  },
  {
   "cell_type": "code",
   "execution_count": 414,
   "metadata": {},
   "outputs": [
    {
     "name": "stdout",
     "output_type": "stream",
     "text": [
      "referee time: 0.05 sec\n"
     ]
    }
   ],
   "source": [
    "#######################\n",
    "### 라인업 다운로드 ###\n",
    "#######################\n",
    "\n",
    "start_time3 = time.time()\n",
    "\n",
    "lineup_url = 'https://sports.news.naver.com/gameCenter/gameRecord.nhn?category=kbo&gameId='\n",
    "lurl = lineup_url + gid\n",
    "lreq = requests.get(lurl)\n",
    "lsoup = BeautifulSoup(lreq.text, 'lxml')\n",
    "lreq.close()\n",
    "\n",
    "scripts = lsoup.find_all('script')\n",
    "team_names = lsoup.find_all('span', attrs={'class': 't_name_txt'})\n",
    "away_team_name = team_names[0].contents[0].split(' ')[0]\n",
    "home_team_name = team_names[1].contents[0].split(' ')[0]\n",
    "contents = None\n",
    "\n",
    "for tag in scripts:\n",
    "    if len(tag.contents) > 0:\n",
    "        if tag.contents[0].find('DataClass = ') > 0:\n",
    "            contents = tag.contents[0]\n",
    "            start = contents.find('DataClass = ') + 36\n",
    "            end = contents.find('_homeTeam')\n",
    "            try:\n",
    "                oldjs = contents[start:end].strip()\n",
    "                while oldjs[-1] != '}':\n",
    "                    oldjs = oldjs[:-1]\n",
    "                while oldjs[0] != '{':\n",
    "                    oldjs = oldjs[1:]\n",
    "                cont = json.loads(oldjs)\n",
    "                break\n",
    "            except Exception as e:\n",
    "                os.chdir('../../..')\n",
    "                print()\n",
    "                print(game_id)\n",
    "                print(oldjs)\n",
    "                print(e)\n",
    "                \n",
    "referee = cont.get('etcRecords')[-1]['result'].split(' ')[0]\n",
    "\n",
    "bbs = cont.get('battersBoxscore')\n",
    "al = bbs.get('away')\n",
    "hl = bbs.get('home')\n",
    "\n",
    "pos_dict = {'중': '중견수', '좌': '좌익수', '우': '우익수', '유': '유격수', '포': '포수', '지': '지명타자',\n",
    "            '一': '1루수', '二': '2루수', '三': '3루수'}\n",
    "\n",
    "posnum_dict = {'중': 8, '좌': 7, '우': 9, '유': 6, '포': 2, '지': 0,\n",
    "            '一': 3, '二': 4, '三': 5}\n",
    "homes = []\n",
    "aways = []\n",
    "\n",
    "for i in range(len(hl)):\n",
    "    player = hl[i]\n",
    "    name = player.get('name')\n",
    "    pos = player.get('pos')[0]\n",
    "    homes.append({'name': name, 'pos': pos})\n",
    "\n",
    "for i in range(len(al)):\n",
    "    player = al[i]\n",
    "    name = player.get('name')\n",
    "    pos = player.get('pos')[0]\n",
    "    aways.append({'name': name, 'pos': pos})\n",
    "\n",
    "end_time3 = time.time()\n",
    "print(f'referee time: {(end_time3 - start_time3):.2f} sec')"
   ]
  },
  {
   "cell_type": "code",
   "execution_count": null,
   "metadata": {},
   "outputs": [],
   "source": []
  },
  {
   "cell_type": "code",
   "execution_count": 415,
   "metadata": {},
   "outputs": [
    {
     "name": "stdout",
     "output_type": "stream",
     "text": [
      "make df time: 0.05 sec\n"
     ]
    }
   ],
   "source": [
    "start_time4 = time.time()\n",
    "\n",
    "rl = txt['relayList']\n",
    "tl_keys = ['seqno', 'text', 'type', 'stuff', 'ptsPitchId', 'speed', 'playerChange']\n",
    "rl_keys = ['no', 'textOptionList', 'inn', 'ptsOptionList',\n",
    "           'titleStyle', 'homeOrAway', 'title', 'lastSyncIndex']\n",
    "pts_keys = ['crossPlateX', 'topSz',\n",
    "            'pitchId', 'vy0', 'vz0', 'vx0',\n",
    "            'z0', 'ax', 'x0', 'ay', 'az',\n",
    "            'bottomSz', 'stance']\n",
    "\n",
    "ts_set = []\n",
    "stadium = txt['stadium']\n",
    "for k in range(len(rl)):\n",
    "    for j in range(len(rl[k].get('textOptionList'))):\n",
    "        ts = rl[k].get('textOptionList')[j]\n",
    "\n",
    "        ts_dict = {}\n",
    "        ts_dict['textOrder'] = rl[k].get('no')\n",
    "        for key in tl_keys:\n",
    "            if key == 'playerChange':\n",
    "                if ts.get(key) is not None:\n",
    "                    for x in ['outPlayer', 'inPlayer', 'shiftPlayer']:\n",
    "                        if x in ts.get(key).keys():\n",
    "                            ts_dict[x] = ts.get(key).get(x).get('playerId')\n",
    "            else:\n",
    "                ts_dict[key] = None if key not in ts.keys() else ts.get(key)\n",
    "        ts_dict['referee'] = referee\n",
    "        ts_dict['stadium'] = stadium\n",
    "        ts_set.append(ts_dict)\n",
    "ts_df = pd.DataFrame(ts_set)\n",
    "ts_df = ts_df.rename(index=str, columns={'ptsPitchId': 'pitchId'})\n",
    "ts_df.seqno = pd.to_numeric(ts_df.seqno)\n",
    "\n",
    "pdata_set = []\n",
    "pdata_df = None\n",
    "for k in range(len(rl)):\n",
    "    if rl[k].get('ptsOptionList') is not None:\n",
    "        for j in range(len(rl[k].get('ptsOptionList'))):\n",
    "            pdata = rl[k].get('ptsOptionList')[j]\n",
    "\n",
    "            pdata_dict = {}\n",
    "            pdata_dict['textOrder'] = rl[k].get('no')\n",
    "            for key in pts_keys:\n",
    "                pdata_dict[key] = None if key not in pdata.keys() else pdata.get(key)\n",
    "            pdata_set.append(pdata_dict)\n",
    "\n",
    "if len(pdata_set) > 0:\n",
    "    pdata_df = pd.DataFrame(pdata_set)\n",
    "    merge_df = pd.merge(ts_df, pdata_df, how='outer').sort_values(['textOrder', 'seqno'])\n",
    "else:\n",
    "    merge_df = ts_df.sort_values(['textOrder', 'seqno'])\n",
    "\n",
    "### 라인업 가져다와서 더하기 ###\n",
    "hit_columns = ['name', 'pCode', 'posName', 'pos',\n",
    "            'hitType', 'seqno', 'batOrder',\n",
    "            'ab', 'hit', 'run', 'rbi',\n",
    "            'hr', 'bb', 'so']\n",
    "pit_columns = ['name', 'pCode', 'hitType', 'seqno',\n",
    "            'inn', 'run', 'er', 'hit', 'hr',\n",
    "            'bb', 'kk', 'hbp', 'wp', 'ballCount']\n",
    "\n",
    "atl = txt.get('awayTeamLineUp')\n",
    "abat = atl.get('batter')\n",
    "apit = atl.get('pitcher')\n",
    "abats = pd.DataFrame(abat, columns=hit_columns).sort_values(['batOrder', 'seqno'])\n",
    "apits = pd.DataFrame(apit, columns=pit_columns).sort_values('seqno')\n",
    "\n",
    "htl = txt.get('homeTeamLineUp')\n",
    "hbat = htl.get('batter')\n",
    "hpit = htl.get('pitcher')\n",
    "hbats = pd.DataFrame(hbat, columns=hit_columns).sort_values(['batOrder', 'seqno'])\n",
    "hpits = pd.DataFrame(hpit, columns=pit_columns).sort_values('seqno')\n",
    "\n",
    "for a in aways:\n",
    "    if a.get('pos') == '교':\n",
    "        continue\n",
    "    abats.loc[abats.name == a.get('name'), 'posName'] = pos_dict.get(a.get('pos'))\n",
    "    abats.loc[abats.name == a.get('name'), 'pos'] = posnum_dict.get(a.get('pos'))\n",
    "\n",
    "for h in homes:\n",
    "    if h.get('pos') == '교':\n",
    "        continue\n",
    "    hbats.loc[hbats.name == h.get('name'), 'posName'] = pos_dict.get(h.get('pos'))\n",
    "    hbats.loc[hbats.name == h.get('name'), 'pos'] = posnum_dict.get(h.get('pos'))\n",
    "abats['homeaway'] = 'a'\n",
    "hbats['homeaway'] = 'h'\n",
    "apits['homeaway'] = 'a'\n",
    "hpits['homeaway'] = 'h'\n",
    "abats['team_name'] = away_team_name\n",
    "hbats['team_name'] = home_team_name\n",
    "apits['team_name'] = away_team_name\n",
    "hpits['team_name'] = home_team_name\n",
    "\n",
    "bats = pd.concat([abats, hbats])\n",
    "pits = pd.concat([apits, hpits])\n",
    "bats.pCode = pd.to_numeric(bats.pCode)\n",
    "pits.pCode = pd.to_numeric(pits.pCode)\n",
    "\n",
    "end_time4 = time.time()\n",
    "print(f'make df time: {(end_time4 - start_time4):.2f} sec')"
   ]
  },
  {
   "cell_type": "code",
   "execution_count": 423,
   "metadata": {},
   "outputs": [
    {
     "name": "stdout",
     "output_type": "stream",
     "text": [
      "make df time: 0.69 sec\n"
     ]
    }
   ],
   "source": [
    "from new_pbp_parse import game_status\n",
    "start_time5 = time.time()\n",
    "\n",
    "gs = game_status()\n",
    "gs.load(gid, pits, bats, merge_df)\n",
    "gs.parse_game()\n",
    "gs.save_game('./')\n",
    "\n",
    "end_time5 = time.time()\n",
    "print(f'make df time: {(end_time5 - start_time5):.2f} sec')"
   ]
  },
  {
   "cell_type": "code",
   "execution_count": null,
   "metadata": {},
   "outputs": [],
   "source": []
  }
 ],
 "metadata": {
  "kernelspec": {
   "display_name": "Python 3",
   "language": "python",
   "name": "python3"
  },
  "language_info": {
   "codemirror_mode": {
    "name": "ipython",
    "version": 3
   },
   "file_extension": ".py",
   "mimetype": "text/x-python",
   "name": "python",
   "nbconvert_exporter": "python",
   "pygments_lexer": "ipython3",
   "version": "3.7.5"
  }
 },
 "nbformat": 4,
 "nbformat_minor": 4
}
