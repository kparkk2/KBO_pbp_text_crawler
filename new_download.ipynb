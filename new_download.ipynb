{
 "cells": [
  {
   "cell_type": "code",
   "execution_count": 2,
   "metadata": {},
   "outputs": [
    {
     "name": "stdout",
     "output_type": "stream",
     "text": [
      "The autoreload extension is already loaded. To reload it, use:\n",
      "  %reload_ext autoreload\n"
     ]
    }
   ],
   "source": [
    "%matplotlib inline\n",
    "%load_ext autoreload\n",
    "\n",
    "%autoreload 2\n",
    "\n",
    "# pandas 모듈은 흔히 pd라는 약칭으로 사용된다. Global 표준에 가깝다.\n",
    "import pandas as pd\n",
    "import time\n",
    "from IPython.display import HTML\n",
    "from IPython.display import display\n",
    "\n",
    "# 커스텀 라이브러리를 import한다.\n",
    "from pbp_plot import *\n",
    "from misc import *\n",
    "\n",
    "# precision 세팅을 한다. 내부 값은 소수점 5자리까지 표시되도록 저장하고, display 시에는 1자리로 표시하도록 한다.\n",
    "pd.set_option('precision', 5)\n",
    "pd.set_option('display.float_format', lambda x: '%.1f' % x)\n",
    "#set_fonts()"
   ]
  },
  {
   "cell_type": "code",
   "execution_count": 17,
   "metadata": {},
   "outputs": [],
   "source": [
    "import datetime\n",
    "import requests\n",
    "from bs4 import BeautifulSoup\n",
    "import time\n",
    "from dateutil.relativedelta import relativedelta"
   ]
  },
  {
   "cell_type": "code",
   "execution_count": 89,
   "metadata": {},
   "outputs": [],
   "source": [
    "def get_game_ids(start_date, end_date):\n",
    "    timetable_url = 'https://sports.news.naver.com/'\\\n",
    "                    'kbaseball/schedule/index.nhn?month='\n",
    "    \n",
    "    mon1 = start_date.replace(day=1)\n",
    "    r = []\n",
    "    while mon1 <= end_date:\n",
    "        r.append(mon1)\n",
    "        mon1 += relativedelta(months=1)\n",
    "    \n",
    "    game_ids = []\n",
    "    \n",
    "    for d in r:\n",
    "        month = d.month\n",
    "        year = d.year\n",
    "        \n",
    "        sch_url = timetable_url + f'{month}&year={year}'\n",
    "\n",
    "        response = requests.get(sch_url)\n",
    "        soup = BeautifulSoup(response.text, 'lxml')\n",
    "        response.close()\n",
    "\n",
    "        buttons = soup.findAll('span',\n",
    "                               attrs={'class': 'td_btn'})\n",
    "\n",
    "        for btn in buttons:\n",
    "            gid = btn.a['href'].split('gameId=')[1]\n",
    "            gid_date = datetime.date(int(gid[:4]),\n",
    "                                     int(gid[4:6]),\n",
    "                                     int(gid[6:8]))\n",
    "            if start_date <= gid_date <= end_date:\n",
    "                game_ids.append(gid)\n",
    "    return game_ids"
   ]
  },
  {
   "cell_type": "code",
   "execution_count": 101,
   "metadata": {},
   "outputs": [
    {
     "name": "stdout",
     "output_type": "stream",
     "text": [
      "elapsed time: 0.79 sec\n",
      "len(gids): 41\n"
     ]
    }
   ],
   "source": [
    "start_date=datetime.date(2018, 3, 21)\n",
    "end_date=datetime.date(2018, 4, 2)\n",
    "start_time = time.time()\n",
    "game_ids = get_game_ids(start_date, end_date)\n",
    "print(f'elapsed time: {(time.time() - start_time):.2f} sec')\n",
    "print(f'len(gids): {len(game_ids)}')"
   ]
  },
  {
   "cell_type": "code",
   "execution_count": 108,
   "metadata": {},
   "outputs": [],
   "source": [
    "from tqdm import tqdm, tqdm_notebook, trange\n",
    "import json"
   ]
  },
  {
   "cell_type": "markdown",
   "metadata": {},
   "source": [
    "20180717LGWO02018"
   ]
  },
  {
   "cell_type": "code",
   "execution_count": 212,
   "metadata": {},
   "outputs": [
    {
     "name": "stderr",
     "output_type": "stream",
     "text": [
      "100%|██████████| 1/1 [00:00<00:00,  1.13it/s]"
     ]
    },
    {
     "name": "stdout",
     "output_type": "stream",
     "text": [
      "schedule get time: 0.30 sec\n",
      "get json time: 0.89 sec\n"
     ]
    },
    {
     "name": "stderr",
     "output_type": "stream",
     "text": [
      "\n"
     ]
    }
   ],
   "source": [
    "start_date=datetime.date(2018, 7, 17)\n",
    "end_date=datetime.date(2018, 7, 17)\n",
    "\n",
    "start_time1 = time.time()\n",
    "#########################################\n",
    "relay_url = 'http://m.sports.naver.com/ajax/baseball/'\\\n",
    "            'gamecenter/kbo/relayText.nhn'\n",
    "record_url = 'http://m.sports.naver.com/ajax/baseball/'\\\n",
    "            'gamecenter/kbo/record.nhn'\n",
    "\n",
    "now = datetime.datetime.now().date()\n",
    "\n",
    "game_ids = get_game_ids(start_date, end_date)\n",
    "end_time1 = time.time()\n",
    "\n",
    "skipped = 0\n",
    "done = 0\n",
    "start_time2 = time.time()\n",
    "for gid in tqdm([game_ids[1]]):\n",
    "    gid_to_date = datetime.date(int(gid[:4]),\n",
    "                                int(gid[4:6]),\n",
    "                                int(gid[6:8]))\n",
    "    if gid_to_date > now:\n",
    "        skipped += 1\n",
    "        continue\n",
    "    params = {\n",
    "                'gameId': gid,\n",
    "                'half': '1'\n",
    "            }\n",
    "\n",
    "    headers = {\n",
    "        'User-Agent': 'Mozilla/5.0 (Windows NT 10.0; Win64; x64)'\n",
    "                      'AppleWebKit/537.36 (KHTML, like Gecko) '\n",
    "                      'Chrome/59.0.3071.115 Safari/537.36',\n",
    "        'X-Requested-With': 'XMLHttpRequest',\n",
    "        'Host': 'm.sports.naver.com',\n",
    "        'Referer': 'http://m.sports.naver.com/baseball/gamecenter/kbo/index.nhn?&gameId='\n",
    "                   + gid\n",
    "                   + '&tab=relay'\n",
    "    }\n",
    "    \n",
    "    response = requests.get(relay_url,\n",
    "                            params=params,\n",
    "                            headers=headers)\n",
    "    if response is None:\n",
    "        skipped += 1\n",
    "        continue\n",
    "    \n",
    "    js = response.json()\n",
    "    if isinstance(js, str):\n",
    "        js = json.loads(js)\n",
    "    response.close()\n",
    "    last_inning = js['currentInning']\n",
    "\n",
    "    if last_inning is None:\n",
    "        skipped += 1\n",
    "        continue\n",
    "\n",
    "    txt = {}\n",
    "    txt['relayList'] = []\n",
    "    for x in js['relayList']:\n",
    "        txt['relayList'].append(x)\n",
    "\n",
    "    txt['homeTeamLineUp'] = js['homeTeamLineUp']\n",
    "    txt['awayTeamLineUp'] = js['awayTeamLineUp']\n",
    "\n",
    "    txt['stadium'] = js['schedule']['stadium']\n",
    "    \n",
    "    for inn in range(2, last_inning + 1):\n",
    "        params = {\n",
    "            'gameId': gid,\n",
    "            'half': str(inn)\n",
    "        }\n",
    "\n",
    "        response = requests.get(relay_url, params=params, headers=headers)\n",
    "        if response is not None:\n",
    "            js = response.json()\n",
    "            if isinstance(js, str):\n",
    "                js = json.loads(js)\n",
    "            response.close()\n",
    "            for x in js['relayList']:\n",
    "                txt['relayList'].append(x)\n",
    "        else:\n",
    "            skipped += 1\n",
    "            response.close()\n",
    "            break\n",
    "end_time2 = time.time()\n",
    "\n",
    "print(f'schedule get time: {(end_time1 - start_time1):.2f} sec')\n",
    "print(f'get json time: {(end_time2 - start_time2):.2f} sec')"
   ]
  },
  {
   "cell_type": "code",
   "execution_count": 214,
   "metadata": {},
   "outputs": [],
   "source": [
    "rl = txt['relayList']"
   ]
  },
  {
   "cell_type": "code",
   "execution_count": null,
   "metadata": {},
   "outputs": [],
   "source": []
  }
 ],
 "metadata": {
  "kernelspec": {
   "display_name": "Python 3",
   "language": "python",
   "name": "python3"
  },
  "language_info": {
   "codemirror_mode": {
    "name": "ipython",
    "version": 3
   },
   "file_extension": ".py",
   "mimetype": "text/x-python",
   "name": "python",
   "nbconvert_exporter": "python",
   "pygments_lexer": "ipython3",
   "version": "3.7.4"
  }
 },
 "nbformat": 4,
 "nbformat_minor": 4
}
