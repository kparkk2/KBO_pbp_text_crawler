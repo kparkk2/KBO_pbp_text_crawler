{
 "cells": [
  {
   "cell_type": "markdown",
   "metadata": {},
   "source": [
    "# Pitch F/X 데이터를 활용한 분석\n",
    "Pitch F/X 데이터는 `pfx.py`를 사용해 N사의 문자중계(gameday) 시스템에서 읽어올 수 있으며, `pbp_data`경로 아래에 연도/월별로 CSV 포맷으로 저장된다.\n",
    "\n",
    "여기서는 `pfx.py`로 다운받은 데이터를 `pandas` 모듈을 사용하여 시각화하고 분석하는 예제를 제공한다.\n",
    "\n",
    "`pandas`의 자세한 사용 방법을 기술하기에는 시간이 오래 걸리므로 생략한다.\n",
    "\n",
    "분석에 필요한 함수는 `pfx_plot.py` 안에 미리 준비되어 있다."
   ]
  },
  {
   "cell_type": "markdown",
   "metadata": {},
   "source": [
    "## 1. 준비\n",
    "필요한 모듈을 로드한다."
   ]
  },
  {
   "cell_type": "code",
   "execution_count": 1,
   "metadata": {},
   "outputs": [],
   "source": [
    "%matplotlib inline\n",
    "\n",
    "# pandas 모듈은 흔히 pd라는 약칭으로 사용된다. Global 표준에 가깝다.\n",
    "import pandas as pd\n",
    "from IPython.display import HTML\n",
    "from IPython.display import display\n",
    "\n",
    "# 커스텀 라이브러리를 import한다.\n",
    "from pfx_plot import *\n",
    "\n",
    "# precision 세팅을 한다. 내부 값은 소수점 1자리까지만 표시되도록 저장하고, display 시에도 마찬가지로 표시하도록 한다.\n",
    "pd.set_option('precision', 1)\n",
    "pd.set_option('display.float_format', lambda x: '%.1f' % x)"
   ]
  },
  {
   "cell_type": "markdown",
   "metadata": {},
   "source": [
    "## 2. 데이터 읽어오기\n",
    "PFX parser를 이용해 데이터는 CSV 포맷으로 저장되어 있다고 가정한다.\n",
    "\n",
    "그렇지 않고 Linux/Mac을 사용하는 경우, 크롤러가 저장된 경로에서 아래 cell을 실행하면 2018년 3월 데이터를 새로 다운로드받고 파싱해서 저장한다.\n",
    "- windows에서는 /dev/null이 없으므로 오류가 생길 수 있다.\n",
    " - 다만 cygwin Terminal이나 Git Bash shell 등에서 Jupyter Notebook을 실행 중이라면 괜찮을 것이다(/dev/null이 있을 것이므로).\n",
    "- 현재 이 코드를 작성하는 시점이 2018년 3월이라서 3월 것을 다운로드받도록 했다."
   ]
  },
  {
   "cell_type": "code",
   "execution_count": 2,
   "metadata": {},
   "outputs": [],
   "source": [
    "!python pfx.py -d 2018 3 > /dev/null\n",
    "!python pfx.py -c 2018 3 > /dev/null"
   ]
  },
  {
   "cell_type": "markdown",
   "metadata": {},
   "source": [
    "2018년도 play-by-play 데이터를 pandas DataFrame으로 로드한다."
   ]
  },
  {
   "cell_type": "code",
   "execution_count": 3,
   "metadata": {},
   "outputs": [
    {
     "data": {
      "text/html": [
       "<div>\n",
       "<style scoped>\n",
       "    .dataframe tbody tr th:only-of-type {\n",
       "        vertical-align: middle;\n",
       "    }\n",
       "\n",
       "    .dataframe tbody tr th {\n",
       "        vertical-align: top;\n",
       "    }\n",
       "\n",
       "    .dataframe thead th {\n",
       "        text-align: right;\n",
       "    }\n",
       "</style>\n",
       "<table border=\"1\" class=\"dataframe\">\n",
       "  <thead>\n",
       "    <tr style=\"text-align: right;\">\n",
       "      <th></th>\n",
       "      <th>pitch_type</th>\n",
       "      <th>pitcher</th>\n",
       "      <th>batter</th>\n",
       "      <th>pitcher_ID</th>\n",
       "      <th>batter_ID</th>\n",
       "      <th>speed</th>\n",
       "      <th>pitch_result</th>\n",
       "      <th>pa_result</th>\n",
       "      <th>balls</th>\n",
       "      <th>strikes</th>\n",
       "      <th>...</th>\n",
       "      <th>pos_7</th>\n",
       "      <th>pos_8</th>\n",
       "      <th>pos_9</th>\n",
       "      <th>game_date</th>\n",
       "      <th>home</th>\n",
       "      <th>away</th>\n",
       "      <th>stadium</th>\n",
       "      <th>referee</th>\n",
       "      <th>pa_number</th>\n",
       "      <th>pitch_number</th>\n",
       "    </tr>\n",
       "  </thead>\n",
       "  <tbody>\n",
       "    <tr>\n",
       "      <th>0</th>\n",
       "      <td>직구</td>\n",
       "      <td>로저스</td>\n",
       "      <td>이용규</td>\n",
       "      <td>65742</td>\n",
       "      <td>74163</td>\n",
       "      <td>147</td>\n",
       "      <td>헛스윙</td>\n",
       "      <td>None</td>\n",
       "      <td>0</td>\n",
       "      <td>0</td>\n",
       "      <td>...</td>\n",
       "      <td>이정후</td>\n",
       "      <td>임병욱</td>\n",
       "      <td>초이스</td>\n",
       "      <td>20180324</td>\n",
       "      <td>WO</td>\n",
       "      <td>HH</td>\n",
       "      <td>고척</td>\n",
       "      <td>최수원</td>\n",
       "      <td>1</td>\n",
       "      <td>1</td>\n",
       "    </tr>\n",
       "    <tr>\n",
       "      <th>1</th>\n",
       "      <td>직구</td>\n",
       "      <td>로저스</td>\n",
       "      <td>이용규</td>\n",
       "      <td>65742</td>\n",
       "      <td>74163</td>\n",
       "      <td>147</td>\n",
       "      <td>스트라이크</td>\n",
       "      <td>None</td>\n",
       "      <td>0</td>\n",
       "      <td>1</td>\n",
       "      <td>...</td>\n",
       "      <td>이정후</td>\n",
       "      <td>임병욱</td>\n",
       "      <td>초이스</td>\n",
       "      <td>20180324</td>\n",
       "      <td>WO</td>\n",
       "      <td>HH</td>\n",
       "      <td>고척</td>\n",
       "      <td>최수원</td>\n",
       "      <td>1</td>\n",
       "      <td>2</td>\n",
       "    </tr>\n",
       "    <tr>\n",
       "      <th>2</th>\n",
       "      <td>슬라이더</td>\n",
       "      <td>로저스</td>\n",
       "      <td>이용규</td>\n",
       "      <td>65742</td>\n",
       "      <td>74163</td>\n",
       "      <td>135</td>\n",
       "      <td>스트라이크</td>\n",
       "      <td>삼진</td>\n",
       "      <td>0</td>\n",
       "      <td>2</td>\n",
       "      <td>...</td>\n",
       "      <td>이정후</td>\n",
       "      <td>임병욱</td>\n",
       "      <td>초이스</td>\n",
       "      <td>20180324</td>\n",
       "      <td>WO</td>\n",
       "      <td>HH</td>\n",
       "      <td>고척</td>\n",
       "      <td>최수원</td>\n",
       "      <td>1</td>\n",
       "      <td>3</td>\n",
       "    </tr>\n",
       "    <tr>\n",
       "      <th>3</th>\n",
       "      <td>직구</td>\n",
       "      <td>로저스</td>\n",
       "      <td>양성우</td>\n",
       "      <td>65742</td>\n",
       "      <td>62797</td>\n",
       "      <td>147</td>\n",
       "      <td>볼</td>\n",
       "      <td>None</td>\n",
       "      <td>0</td>\n",
       "      <td>0</td>\n",
       "      <td>...</td>\n",
       "      <td>이정후</td>\n",
       "      <td>임병욱</td>\n",
       "      <td>초이스</td>\n",
       "      <td>20180324</td>\n",
       "      <td>WO</td>\n",
       "      <td>HH</td>\n",
       "      <td>고척</td>\n",
       "      <td>최수원</td>\n",
       "      <td>2</td>\n",
       "      <td>1</td>\n",
       "    </tr>\n",
       "    <tr>\n",
       "      <th>4</th>\n",
       "      <td>직구</td>\n",
       "      <td>로저스</td>\n",
       "      <td>양성우</td>\n",
       "      <td>65742</td>\n",
       "      <td>62797</td>\n",
       "      <td>146</td>\n",
       "      <td>볼</td>\n",
       "      <td>None</td>\n",
       "      <td>1</td>\n",
       "      <td>0</td>\n",
       "      <td>...</td>\n",
       "      <td>이정후</td>\n",
       "      <td>임병욱</td>\n",
       "      <td>초이스</td>\n",
       "      <td>20180324</td>\n",
       "      <td>WO</td>\n",
       "      <td>HH</td>\n",
       "      <td>고척</td>\n",
       "      <td>최수원</td>\n",
       "      <td>2</td>\n",
       "      <td>2</td>\n",
       "    </tr>\n",
       "  </tbody>\n",
       "</table>\n",
       "<p>5 rows × 44 columns</p>\n",
       "</div>"
      ],
      "text/plain": [
       "  pitch_type pitcher batter  pitcher_ID  batter_ID speed pitch_result  \\\n",
       "0         직구     로저스    이용규       65742      74163   147          헛스윙   \n",
       "1         직구     로저스    이용규       65742      74163   147        스트라이크   \n",
       "2       슬라이더     로저스    이용규       65742      74163   135        스트라이크   \n",
       "3         직구     로저스    양성우       65742      62797   147            볼   \n",
       "4         직구     로저스    양성우       65742      62797   146            볼   \n",
       "\n",
       "  pa_result  balls  strikes     ...       pos_7  pos_8 pos_9  game_date  home  \\\n",
       "0      None      0        0     ...         이정후    임병욱   초이스   20180324    WO   \n",
       "1      None      0        1     ...         이정후    임병욱   초이스   20180324    WO   \n",
       "2        삼진      0        2     ...         이정후    임병욱   초이스   20180324    WO   \n",
       "3      None      0        0     ...         이정후    임병욱   초이스   20180324    WO   \n",
       "4      None      1        0     ...         이정후    임병욱   초이스   20180324    WO   \n",
       "\n",
       "  away stadium referee pa_number pitch_number  \n",
       "0   HH      고척     최수원         1            1  \n",
       "1   HH      고척     최수원         1            2  \n",
       "2   HH      고척     최수원         1            3  \n",
       "3   HH      고척     최수원         2            1  \n",
       "4   HH      고척     최수원         2            2  \n",
       "\n",
       "[5 rows x 44 columns]"
      ]
     },
     "metadata": {},
     "output_type": "display_data"
    }
   ],
   "source": [
    "df = pd.read_csv('pbp_data/2018/2018.csv')\n",
    "# Windows(한글)에서 저장한 데이터를 로드할 때는 아래 코드를 실행한다.\n",
    "# df = pd.reac_csv('pbp_data/2018/2018.csv', encoding='cp949')\n",
    "\n",
    "# show some\n",
    "display(df[:5])"
   ]
  },
  {
   "cell_type": "markdown",
   "metadata": {},
   "source": [
    "로드된 데이터를 보면 열(column)이 길어서 중간에 축약 처리(`...`)가 된 것을 볼 수 있다.\n",
    "\n",
    "열의 이름을 알기 위해 CSV 파일을 엑셀이나 텍스트 에디터로 열어보는 방법도 있지만, 1MB 이상 되는 파일을 매번 열어보는 건 시간상 현명한 선택이 아니다.\n",
    "\n",
    "대신 pandas DataFrame에 내장된 기능을 사용, 로드한 데이터의 key를 알아낼 수 있다."
   ]
  },
  {
   "cell_type": "code",
   "execution_count": 4,
   "metadata": {},
   "outputs": [
    {
     "data": {
      "text/plain": [
       "Index(['pitch_type', 'pitcher', 'batter', 'pitcher_ID', 'batter_ID', 'speed',\n",
       "       'pitch_result', 'pa_result', 'balls', 'strikes', 'outs', 'inning',\n",
       "       'inning_topbot', 'score_away', 'score_home', 'stands', 'throws',\n",
       "       'on_1b', 'on_2b', 'on_3b', 'px', 'pz', 'pfx_x', 'pfx_z', 'x0', 'z0',\n",
       "       'sz_top', 'sz_bot', 'pos_1', 'pos_2', 'pos_3', 'pos_4', 'pos_5',\n",
       "       'pos_6', 'pos_7', 'pos_8', 'pos_9', 'game_date', 'home', 'away',\n",
       "       'stadium', 'referee', 'pa_number', 'pitch_number'],\n",
       "      dtype='object')"
      ]
     },
     "metadata": {},
     "output_type": "display_data"
    }
   ],
   "source": [
    "display(df.keys())"
   ]
  },
  {
   "cell_type": "markdown",
   "metadata": {},
   "source": [
    "'key'는 CSV 파일의 열 이름을 뜻한다. 40여개 가까운 key가 있다. 매번 외울 수는 없으니 기억이 나지 않을 때마다 `df.keys()`를 잘 활용해주자."
   ]
  },
  {
   "cell_type": "markdown",
   "metadata": {},
   "source": [
    "## 3. 데이터 전처리\n",
    "\n",
    "본격적인 분석을 하기에 앞서, 한가지 더 해야 할 것이 있다. 쓰레기값(Null)을 갖는 데이터 행(row)을 삭제하는 것이다.\n",
    "\n",
    "예를 들어서 엑셀에서 CSV파일을 연 경우, 구속의 평균을 내야 하는데 숫자가 아닌 `NaN`(Not a Number; 숫자가 아님)이나 'None' 같은 문자 데이터가 들어있다면 Average 함수가 정상 작동하지 않을 것이다.\n",
    "\n",
    "pandas도 마찬가지다. 웬만한 건 스마트하게 처리해주지만, 저런 필요 없는/에러를 유발할 수 있는 데이터는 삭제해줘야 한다."
   ]
  },
  {
   "cell_type": "code",
   "execution_count": 5,
   "metadata": {},
   "outputs": [
    {
     "data": {
      "text/html": [
       "<div>\n",
       "<style scoped>\n",
       "    .dataframe tbody tr th:only-of-type {\n",
       "        vertical-align: middle;\n",
       "    }\n",
       "\n",
       "    .dataframe tbody tr th {\n",
       "        vertical-align: top;\n",
       "    }\n",
       "\n",
       "    .dataframe thead th {\n",
       "        text-align: right;\n",
       "    }\n",
       "</style>\n",
       "<table border=\"1\" class=\"dataframe\">\n",
       "  <thead>\n",
       "    <tr style=\"text-align: right;\">\n",
       "      <th></th>\n",
       "      <th>pitch_type</th>\n",
       "      <th>pitcher</th>\n",
       "      <th>batter</th>\n",
       "      <th>speed</th>\n",
       "      <th>px</th>\n",
       "      <th>pz</th>\n",
       "    </tr>\n",
       "  </thead>\n",
       "  <tbody>\n",
       "    <tr>\n",
       "      <th>1432</th>\n",
       "      <td>NaN</td>\n",
       "      <td>윤성환</td>\n",
       "      <td>파레디스</td>\n",
       "      <td>0</td>\n",
       "      <td>-1.72259</td>\n",
       "      <td>2.83779</td>\n",
       "    </tr>\n",
       "    <tr>\n",
       "      <th>1433</th>\n",
       "      <td>NaN</td>\n",
       "      <td>윤성환</td>\n",
       "      <td>파레디스</td>\n",
       "      <td>0</td>\n",
       "      <td>0.28726</td>\n",
       "      <td>2.44873</td>\n",
       "    </tr>\n",
       "    <tr>\n",
       "      <th>2348</th>\n",
       "      <td>NaN</td>\n",
       "      <td>윤성빈</td>\n",
       "      <td>한동민</td>\n",
       "      <td>0</td>\n",
       "      <td>0.87464</td>\n",
       "      <td>1.6864</td>\n",
       "    </tr>\n",
       "  </tbody>\n",
       "</table>\n",
       "</div>"
      ],
      "text/plain": [
       "     pitch_type pitcher batter speed        px       pz\n",
       "1432        NaN     윤성환   파레디스     0  -1.72259  2.83779\n",
       "1433        NaN     윤성환   파레디스     0   0.28726  2.44873\n",
       "2348        NaN     윤성빈    한동민     0   0.87464   1.6864"
      ]
     },
     "metadata": {},
     "output_type": "display_data"
    },
    {
     "data": {
      "text/html": [
       "<div>\n",
       "<style scoped>\n",
       "    .dataframe tbody tr th:only-of-type {\n",
       "        vertical-align: middle;\n",
       "    }\n",
       "\n",
       "    .dataframe tbody tr th {\n",
       "        vertical-align: top;\n",
       "    }\n",
       "\n",
       "    .dataframe thead th {\n",
       "        text-align: right;\n",
       "    }\n",
       "</style>\n",
       "<table border=\"1\" class=\"dataframe\">\n",
       "  <thead>\n",
       "    <tr style=\"text-align: right;\">\n",
       "      <th></th>\n",
       "      <th>pitch_type</th>\n",
       "      <th>pitcher</th>\n",
       "      <th>batter</th>\n",
       "      <th>speed</th>\n",
       "      <th>px</th>\n",
       "      <th>pz</th>\n",
       "    </tr>\n",
       "  </thead>\n",
       "  <tbody>\n",
       "    <tr>\n",
       "      <th>514</th>\n",
       "      <td>None</td>\n",
       "      <td>헥터</td>\n",
       "      <td>로하스</td>\n",
       "      <td>None</td>\n",
       "      <td>None</td>\n",
       "      <td>None</td>\n",
       "    </tr>\n",
       "    <tr>\n",
       "      <th>674</th>\n",
       "      <td>None</td>\n",
       "      <td>왕웨이중</td>\n",
       "      <td>가르시아</td>\n",
       "      <td>None</td>\n",
       "      <td>None</td>\n",
       "      <td>None</td>\n",
       "    </tr>\n",
       "    <tr>\n",
       "      <th>675</th>\n",
       "      <td>None</td>\n",
       "      <td>왕웨이중</td>\n",
       "      <td>김현수</td>\n",
       "      <td>None</td>\n",
       "      <td>None</td>\n",
       "      <td>None</td>\n",
       "    </tr>\n",
       "  </tbody>\n",
       "</table>\n",
       "</div>"
      ],
      "text/plain": [
       "    pitch_type pitcher batter speed    px    pz\n",
       "514       None      헥터    로하스  None  None  None\n",
       "674       None    왕웨이중   가르시아  None  None  None\n",
       "675       None    왕웨이중    김현수  None  None  None"
      ]
     },
     "metadata": {},
     "output_type": "display_data"
    }
   ],
   "source": [
    "# 쓰레기 값이 있는 데이터의 예시\n",
    "display(df.loc[df.pitch_type.isnull()].loc[:, ['pitch_type', 'pitcher', 'batter', 'speed', 'px', 'pz']][:3])\n",
    "display(df.loc[df.pitch_type == 'None'].loc[:, ['pitch_type', 'pitcher', 'batter', 'speed', 'px', 'pz']][:3])"
   ]
  },
  {
   "cell_type": "markdown",
   "metadata": {},
   "source": [
    "위 예시에서 보면 `pitch_type` 열에 `NaN`이나 'None' 같은 값이 있다. 철저히 배제해야 한다.\n",
    "\n",
    "방법은 다음과 같다."
   ]
  },
  {
   "cell_type": "code",
   "execution_count": 6,
   "metadata": {},
   "outputs": [],
   "source": [
    "# NaN 처리; 숫자로 된 key는 대부분 쓰레기값이 섞여있다.\n",
    "df.loc[:, 'speed'] = pd.to_numeric(df.speed, errors='coerce')\n",
    "df.loc[:, 'px'] = pd.to_numeric(df.px, errors='coerce')\n",
    "df.loc[:, 'pz'] = pd.to_numeric(df.pz, errors='coerce')\n",
    "df.loc[:, 'pfx_x'] = pd.to_numeric(df.pfx_x, errors='coerce')\n",
    "df.loc[:, 'pfx_z'] = pd.to_numeric(df.pfx_z, errors='coerce')\n",
    "df.loc[:, 'x0'] = pd.to_numeric(df.x0, errors='coerce')\n",
    "df.loc[:, 'z0'] = pd.to_numeric(df.z0, errors='coerce')\n",
    "\n",
    "# pitch_type이 'NaN'인 row는 drop한다.\n",
    "df = df.drop(df.loc[df.pitch_type.isnull()].index)\n",
    "\n",
    "# pitch_type이 'None'인 row는 drop한다.\n",
    "df = df.drop(df.loc[df.pitch_type == 'None'].index)"
   ]
  },
  {
   "cell_type": "markdown",
   "metadata": {},
   "source": [
    "이렇게 제거했는데도 쓰레기 값이 섞여있을 수 있다. 확인해보자."
   ]
  },
  {
   "cell_type": "code",
   "execution_count": 7,
   "metadata": {},
   "outputs": [
    {
     "data": {
      "text/plain": [
       "True"
      ]
     },
     "metadata": {},
     "output_type": "display_data"
    },
    {
     "name": "stdout",
     "output_type": "stream",
     "text": [
      "\n"
     ]
    },
    {
     "data": {
      "text/plain": [
       "pitch_type       False\n",
       "pitcher          False\n",
       "batter           False\n",
       "pitcher_ID       False\n",
       "batter_ID        False\n",
       "speed            False\n",
       "pitch_result     False\n",
       "pa_result        False\n",
       "balls            False\n",
       "strikes          False\n",
       "outs             False\n",
       "inning           False\n",
       "inning_topbot    False\n",
       "score_away       False\n",
       "score_home       False\n",
       "stands           False\n",
       "throws           False\n",
       "on_1b            False\n",
       "on_2b            False\n",
       "on_3b            False\n",
       "px               False\n",
       "pz               False\n",
       "pfx_x            False\n",
       "pfx_z            False\n",
       "x0               False\n",
       "z0               False\n",
       "sz_top           False\n",
       "sz_bot           False\n",
       "pos_1            False\n",
       "pos_2            False\n",
       "pos_3            False\n",
       "pos_4            False\n",
       "pos_5            False\n",
       "pos_6            False\n",
       "pos_7            False\n",
       "pos_8            False\n",
       "pos_9            False\n",
       "game_date        False\n",
       "home             False\n",
       "away             False\n",
       "stadium          False\n",
       "referee           True\n",
       "pa_number        False\n",
       "pitch_number     False\n",
       "dtype: bool"
      ]
     },
     "metadata": {},
     "output_type": "display_data"
    }
   ],
   "source": [
    "display(df.isnull().any().any())\n",
    "print()\n",
    "display(df.isnull().any())"
   ]
  },
  {
   "cell_type": "markdown",
   "metadata": {},
   "source": [
    "실행 결과 referee 열에 쓰레기값이 섞여있는 게 확인된다. referee 데이터가 분석에 필요하다면 제거해주는 것이 좋다.\n",
    "\n",
    "물론 데이터가 잘못 다운로드됐거나, 파싱이 잘못됐을 가능성도 있다.\n",
    "\n",
    "여기서는 referee 관련 분석을 진행하지 않을 것이므로, 일단 넘어가도록 한다."
   ]
  },
  {
   "cell_type": "markdown",
   "metadata": {},
   "source": [
    "# 투수 데이터 분석\n",
    "\n",
    "PBP 데이터에는 Pitch F/X 데이터가 들어있다. Pitch F/X 데이터는 투수 구속, 구종 이름, 무브먼트, 로케이션, 릴리즈 포인트 등을 포함한다.\n",
    "\n",
    "이 데이터를 활용하는 예 중 하나는 '투수 레퍼토리 분석'이다. 예시로 켈리의 구종별 구속, break(무브먼트) 등을 알아보자."
   ]
  },
  {
   "cell_type": "code",
   "execution_count": 8,
   "metadata": {},
   "outputs": [
    {
     "name": "stdout",
     "output_type": "stream",
     "text": [
      "켈리 데이터 개수 : 102개\n"
     ]
    },
    {
     "data": {
      "text/html": [
       "<div>\n",
       "<style scoped>\n",
       "    .dataframe tbody tr th:only-of-type {\n",
       "        vertical-align: middle;\n",
       "    }\n",
       "\n",
       "    .dataframe tbody tr th {\n",
       "        vertical-align: top;\n",
       "    }\n",
       "\n",
       "    .dataframe thead th {\n",
       "        text-align: right;\n",
       "    }\n",
       "</style>\n",
       "<table border=\"1\" class=\"dataframe\">\n",
       "  <thead>\n",
       "    <tr style=\"text-align: right;\">\n",
       "      <th></th>\n",
       "      <th>pitch_type</th>\n",
       "      <th>pitcher</th>\n",
       "      <th>batter</th>\n",
       "      <th>pitcher_ID</th>\n",
       "      <th>batter_ID</th>\n",
       "      <th>speed</th>\n",
       "      <th>pitch_result</th>\n",
       "      <th>pa_result</th>\n",
       "      <th>balls</th>\n",
       "      <th>strikes</th>\n",
       "      <th>...</th>\n",
       "      <th>pos_7</th>\n",
       "      <th>pos_8</th>\n",
       "      <th>pos_9</th>\n",
       "      <th>game_date</th>\n",
       "      <th>home</th>\n",
       "      <th>away</th>\n",
       "      <th>stadium</th>\n",
       "      <th>referee</th>\n",
       "      <th>pa_number</th>\n",
       "      <th>pitch_number</th>\n",
       "    </tr>\n",
       "  </thead>\n",
       "  <tbody>\n",
       "    <tr>\n",
       "      <th>894</th>\n",
       "      <td>직구</td>\n",
       "      <td>켈리</td>\n",
       "      <td>민병헌</td>\n",
       "      <td>65856</td>\n",
       "      <td>76249</td>\n",
       "      <td>148.0</td>\n",
       "      <td>스트라이크</td>\n",
       "      <td>None</td>\n",
       "      <td>0</td>\n",
       "      <td>0</td>\n",
       "      <td>...</td>\n",
       "      <td>정의윤</td>\n",
       "      <td>정진기</td>\n",
       "      <td>한동민</td>\n",
       "      <td>20180324</td>\n",
       "      <td>SK</td>\n",
       "      <td>LT</td>\n",
       "      <td>문학</td>\n",
       "      <td>박기택</td>\n",
       "      <td>1</td>\n",
       "      <td>1</td>\n",
       "    </tr>\n",
       "    <tr>\n",
       "      <th>895</th>\n",
       "      <td>직구</td>\n",
       "      <td>켈리</td>\n",
       "      <td>민병헌</td>\n",
       "      <td>65856</td>\n",
       "      <td>76249</td>\n",
       "      <td>147.0</td>\n",
       "      <td>볼</td>\n",
       "      <td>None</td>\n",
       "      <td>0</td>\n",
       "      <td>1</td>\n",
       "      <td>...</td>\n",
       "      <td>정의윤</td>\n",
       "      <td>정진기</td>\n",
       "      <td>한동민</td>\n",
       "      <td>20180324</td>\n",
       "      <td>SK</td>\n",
       "      <td>LT</td>\n",
       "      <td>문학</td>\n",
       "      <td>박기택</td>\n",
       "      <td>1</td>\n",
       "      <td>2</td>\n",
       "    </tr>\n",
       "    <tr>\n",
       "      <th>896</th>\n",
       "      <td>직구</td>\n",
       "      <td>켈리</td>\n",
       "      <td>민병헌</td>\n",
       "      <td>65856</td>\n",
       "      <td>76249</td>\n",
       "      <td>148.0</td>\n",
       "      <td>볼</td>\n",
       "      <td>None</td>\n",
       "      <td>1</td>\n",
       "      <td>1</td>\n",
       "      <td>...</td>\n",
       "      <td>정의윤</td>\n",
       "      <td>정진기</td>\n",
       "      <td>한동민</td>\n",
       "      <td>20180324</td>\n",
       "      <td>SK</td>\n",
       "      <td>LT</td>\n",
       "      <td>문학</td>\n",
       "      <td>박기택</td>\n",
       "      <td>1</td>\n",
       "      <td>3</td>\n",
       "    </tr>\n",
       "  </tbody>\n",
       "</table>\n",
       "<p>3 rows × 44 columns</p>\n",
       "</div>"
      ],
      "text/plain": [
       "    pitch_type pitcher batter  pitcher_ID  batter_ID  speed pitch_result  \\\n",
       "894         직구      켈리    민병헌       65856      76249  148.0        스트라이크   \n",
       "895         직구      켈리    민병헌       65856      76249  147.0            볼   \n",
       "896         직구      켈리    민병헌       65856      76249  148.0            볼   \n",
       "\n",
       "    pa_result  balls  strikes     ...       pos_7  pos_8 pos_9  game_date  \\\n",
       "894      None      0        0     ...         정의윤    정진기   한동민   20180324   \n",
       "895      None      0        1     ...         정의윤    정진기   한동민   20180324   \n",
       "896      None      1        1     ...         정의윤    정진기   한동민   20180324   \n",
       "\n",
       "     home away stadium referee pa_number pitch_number  \n",
       "894    SK   LT      문학     박기택         1            1  \n",
       "895    SK   LT      문학     박기택         1            2  \n",
       "896    SK   LT      문학     박기택         1            3  \n",
       "\n",
       "[3 rows x 44 columns]"
      ]
     },
     "metadata": {},
     "output_type": "display_data"
    }
   ],
   "source": [
    "# pitcher 이름이 '켈리'인 데이터만 읽어온다.\n",
    "sub_df = df.loc[df.pitcher == '켈리']\n",
    "\n",
    "print('켈리 데이터 개수 : {}개'.format(len(sub_df)))\n",
    "display(sub_df[:3])"
   ]
  },
  {
   "cell_type": "markdown",
   "metadata": {},
   "source": [
    "데이터를 읽어왔지만 102구나 되는 내용을 일일이 들여다보기에는 시간이 부족하다.\n",
    "\n",
    "구종 별로 묶어서 평균 구속, 최고 구속 등을 볼 수 있다면 시간이 절약될 것이다.\n",
    "\n",
    "이럴 때 활용할 수 있는 게 `pandas DataFrame`의 `groupby` 함수다."
   ]
  },
  {
   "cell_type": "code",
   "execution_count": 9,
   "metadata": {},
   "outputs": [
    {
     "data": {
      "text/html": [
       "<div>\n",
       "<style scoped>\n",
       "    .dataframe tbody tr th:only-of-type {\n",
       "        vertical-align: middle;\n",
       "    }\n",
       "\n",
       "    .dataframe tbody tr th {\n",
       "        vertical-align: top;\n",
       "    }\n",
       "\n",
       "    .dataframe thead th {\n",
       "        text-align: right;\n",
       "    }\n",
       "</style>\n",
       "<table border=\"1\" class=\"dataframe\">\n",
       "  <thead>\n",
       "    <tr style=\"text-align: right;\">\n",
       "      <th></th>\n",
       "      <th>speed</th>\n",
       "      <th>pfx_x</th>\n",
       "      <th>pfx_z</th>\n",
       "      <th>count</th>\n",
       "      <th>max</th>\n",
       "      <th>min</th>\n",
       "    </tr>\n",
       "    <tr>\n",
       "      <th>pitch_type</th>\n",
       "      <th></th>\n",
       "      <th></th>\n",
       "      <th></th>\n",
       "      <th></th>\n",
       "      <th></th>\n",
       "      <th></th>\n",
       "    </tr>\n",
       "  </thead>\n",
       "  <tbody>\n",
       "    <tr>\n",
       "      <th>슬라이더</th>\n",
       "      <td>135.0</td>\n",
       "      <td>2.8</td>\n",
       "      <td>2.5</td>\n",
       "      <td>7</td>\n",
       "      <td>136.0</td>\n",
       "      <td>133.0</td>\n",
       "    </tr>\n",
       "    <tr>\n",
       "      <th>직구</th>\n",
       "      <td>147.1</td>\n",
       "      <td>-5.5</td>\n",
       "      <td>9.4</td>\n",
       "      <td>32</td>\n",
       "      <td>150.0</td>\n",
       "      <td>144.0</td>\n",
       "    </tr>\n",
       "    <tr>\n",
       "      <th>체인지업</th>\n",
       "      <td>135.9</td>\n",
       "      <td>-8.4</td>\n",
       "      <td>7.2</td>\n",
       "      <td>16</td>\n",
       "      <td>140.0</td>\n",
       "      <td>131.0</td>\n",
       "    </tr>\n",
       "    <tr>\n",
       "      <th>커브</th>\n",
       "      <td>130.4</td>\n",
       "      <td>3.9</td>\n",
       "      <td>-2.8</td>\n",
       "      <td>23</td>\n",
       "      <td>136.0</td>\n",
       "      <td>125.0</td>\n",
       "    </tr>\n",
       "    <tr>\n",
       "      <th>커터</th>\n",
       "      <td>142.4</td>\n",
       "      <td>-5.0</td>\n",
       "      <td>7.9</td>\n",
       "      <td>12</td>\n",
       "      <td>146.0</td>\n",
       "      <td>138.0</td>\n",
       "    </tr>\n",
       "    <tr>\n",
       "      <th>투심</th>\n",
       "      <td>145.1</td>\n",
       "      <td>-7.7</td>\n",
       "      <td>8.7</td>\n",
       "      <td>12</td>\n",
       "      <td>149.0</td>\n",
       "      <td>137.0</td>\n",
       "    </tr>\n",
       "  </tbody>\n",
       "</table>\n",
       "</div>"
      ],
      "text/plain": [
       "            speed  pfx_x  pfx_z  count   max   min\n",
       "pitch_type                                        \n",
       "슬라이더        135.0    2.8    2.5      7 136.0 133.0\n",
       "직구          147.1   -5.5    9.4     32 150.0 144.0\n",
       "체인지업        135.9   -8.4    7.2     16 140.0 131.0\n",
       "커브          130.4    3.9   -2.8     23 136.0 125.0\n",
       "커터          142.4   -5.0    7.9     12 146.0 138.0\n",
       "투심          145.1   -7.7    8.7     12 149.0 137.0"
      ]
     },
     "metadata": {},
     "output_type": "display_data"
    }
   ],
   "source": [
    "# pitch_type으로 묶어서 각 열 데이터의 평균(mean)을 구하고, 그 중 speed, pfx_x, pfx_z만 가져온다.\n",
    "groupped = sub_df.groupby('pitch_type').mean().loc[:, ('speed', 'pfx_x', 'pfx_z')]\n",
    "\n",
    "# 구종별 개수가 없으니 추가한다. count()는 모든 열에 동일한 값(해당 group의 개수)이 들어가므로, 그 중 한 열만 긁어오는 것이 핵심이다. speed가 아니어도 된다.\n",
    "groupped['count'] = sub_df.groupby('pitch_type').count().speed\n",
    "\n",
    "# 비슷하게 speed의 max, min 값도 추가한다.\n",
    "groupped['max'] = sub_df.groupby('pitch_type').max().speed\n",
    "groupped['min'] = sub_df.groupby('pitch_type').min().speed\n",
    "\n",
    "# 확인해본다.\n",
    "display(groupped)"
   ]
  },
  {
   "cell_type": "markdown",
   "metadata": {},
   "source": [
    "원하던대로 구종별 구속, 브레이크 값 등을 정리했다. 포심(직구) 평균구속 147, 최고구속 150인 것을 보면 알려진 켈리의 데이터와 유사하다.\n",
    "\n",
    "또한 앞서 pitch_type 열에서 `NaN`, 'None' 같은 값을 제거했기 때문에 이상한 그룹이 나오지 않는다.\n",
    "\n",
    "제거하지 않았다면 슬라이더 위에 'None' 그룹이 표시되거나, 평균 계산이 제대로 되지 않았을 것이다."
   ]
  },
  {
   "cell_type": "markdown",
   "metadata": {},
   "source": [
    "# Plot 만들기(1) - 로케이션 찍어보기\n",
    "\n",
    "### PBP 데이터를 활용해 방송사 중계화면처럼 로케이션을 찍어보자. 미리 준비된 함수를 활용한다."
   ]
  },
  {
   "cell_type": "markdown",
   "metadata": {},
   "source": [
    "`plot_calls()` 함수는 PBP 데이터의 px, pz 값을 2차원 x, y 값으로 사용해 포수 시점에서 본 공의 위치를 그림으로 그려낸다.\n",
    "\n",
    "`px`, `pz` 값의 단위는 __피트__다(1피트 = 12인치 = 30.84cm).\n",
    "- `pfx_x`, `pfx_z`의 단위는 __인치__(12인치 = 1피트)이며, `x0`, `z0`, `sz_top`, `sz_bot`의 단위는 __피트__다. 유의하자.\n",
    "\n",
    "사용 예는 다음과 같다."
   ]
  },
  {
   "cell_type": "code",
   "execution_count": 10,
   "metadata": {},
   "outputs": [
    {
     "data": {
      "text/html": [
       "<div>\n",
       "<style scoped>\n",
       "    .dataframe tbody tr th:only-of-type {\n",
       "        vertical-align: middle;\n",
       "    }\n",
       "\n",
       "    .dataframe tbody tr th {\n",
       "        vertical-align: top;\n",
       "    }\n",
       "\n",
       "    .dataframe thead th {\n",
       "        text-align: right;\n",
       "    }\n",
       "</style>\n",
       "<table border=\"1\" class=\"dataframe\">\n",
       "  <thead>\n",
       "    <tr style=\"text-align: right;\">\n",
       "      <th></th>\n",
       "      <th>pitch_type</th>\n",
       "      <th>pitcher</th>\n",
       "      <th>batter</th>\n",
       "      <th>pitcher_ID</th>\n",
       "      <th>batter_ID</th>\n",
       "      <th>speed</th>\n",
       "      <th>pitch_result</th>\n",
       "      <th>pa_result</th>\n",
       "      <th>balls</th>\n",
       "      <th>strikes</th>\n",
       "      <th>...</th>\n",
       "      <th>pos_7</th>\n",
       "      <th>pos_8</th>\n",
       "      <th>pos_9</th>\n",
       "      <th>game_date</th>\n",
       "      <th>home</th>\n",
       "      <th>away</th>\n",
       "      <th>stadium</th>\n",
       "      <th>referee</th>\n",
       "      <th>pa_number</th>\n",
       "      <th>pitch_number</th>\n",
       "    </tr>\n",
       "  </thead>\n",
       "  <tbody>\n",
       "    <tr>\n",
       "      <th>2194</th>\n",
       "      <td>직구</td>\n",
       "      <td>김광현</td>\n",
       "      <td>이대호</td>\n",
       "      <td>77829</td>\n",
       "      <td>71564</td>\n",
       "      <td>152.0</td>\n",
       "      <td>헛스윙</td>\n",
       "      <td>None</td>\n",
       "      <td>0</td>\n",
       "      <td>0</td>\n",
       "      <td>...</td>\n",
       "      <td>정의윤</td>\n",
       "      <td>김강민</td>\n",
       "      <td>한동민</td>\n",
       "      <td>20180325</td>\n",
       "      <td>SK</td>\n",
       "      <td>LT</td>\n",
       "      <td>문학</td>\n",
       "      <td>NaN</td>\n",
       "      <td>4</td>\n",
       "      <td>1</td>\n",
       "    </tr>\n",
       "    <tr>\n",
       "      <th>2195</th>\n",
       "      <td>직구</td>\n",
       "      <td>김광현</td>\n",
       "      <td>이대호</td>\n",
       "      <td>77829</td>\n",
       "      <td>71564</td>\n",
       "      <td>150.0</td>\n",
       "      <td>볼</td>\n",
       "      <td>None</td>\n",
       "      <td>0</td>\n",
       "      <td>1</td>\n",
       "      <td>...</td>\n",
       "      <td>정의윤</td>\n",
       "      <td>김강민</td>\n",
       "      <td>한동민</td>\n",
       "      <td>20180325</td>\n",
       "      <td>SK</td>\n",
       "      <td>LT</td>\n",
       "      <td>문학</td>\n",
       "      <td>NaN</td>\n",
       "      <td>4</td>\n",
       "      <td>2</td>\n",
       "    </tr>\n",
       "    <tr>\n",
       "      <th>2196</th>\n",
       "      <td>직구</td>\n",
       "      <td>김광현</td>\n",
       "      <td>이대호</td>\n",
       "      <td>77829</td>\n",
       "      <td>71564</td>\n",
       "      <td>151.0</td>\n",
       "      <td>스트라이크</td>\n",
       "      <td>None</td>\n",
       "      <td>1</td>\n",
       "      <td>1</td>\n",
       "      <td>...</td>\n",
       "      <td>정의윤</td>\n",
       "      <td>김강민</td>\n",
       "      <td>한동민</td>\n",
       "      <td>20180325</td>\n",
       "      <td>SK</td>\n",
       "      <td>LT</td>\n",
       "      <td>문학</td>\n",
       "      <td>NaN</td>\n",
       "      <td>4</td>\n",
       "      <td>3</td>\n",
       "    </tr>\n",
       "    <tr>\n",
       "      <th>2197</th>\n",
       "      <td>직구</td>\n",
       "      <td>김광현</td>\n",
       "      <td>이대호</td>\n",
       "      <td>77829</td>\n",
       "      <td>71564</td>\n",
       "      <td>151.0</td>\n",
       "      <td>파울</td>\n",
       "      <td>None</td>\n",
       "      <td>1</td>\n",
       "      <td>2</td>\n",
       "      <td>...</td>\n",
       "      <td>정의윤</td>\n",
       "      <td>김강민</td>\n",
       "      <td>한동민</td>\n",
       "      <td>20180325</td>\n",
       "      <td>SK</td>\n",
       "      <td>LT</td>\n",
       "      <td>문학</td>\n",
       "      <td>NaN</td>\n",
       "      <td>4</td>\n",
       "      <td>4</td>\n",
       "    </tr>\n",
       "    <tr>\n",
       "      <th>2198</th>\n",
       "      <td>슬라이더</td>\n",
       "      <td>김광현</td>\n",
       "      <td>이대호</td>\n",
       "      <td>77829</td>\n",
       "      <td>71564</td>\n",
       "      <td>144.0</td>\n",
       "      <td>헛스윙</td>\n",
       "      <td>삼진</td>\n",
       "      <td>1</td>\n",
       "      <td>2</td>\n",
       "      <td>...</td>\n",
       "      <td>정의윤</td>\n",
       "      <td>김강민</td>\n",
       "      <td>한동민</td>\n",
       "      <td>20180325</td>\n",
       "      <td>SK</td>\n",
       "      <td>LT</td>\n",
       "      <td>문학</td>\n",
       "      <td>NaN</td>\n",
       "      <td>4</td>\n",
       "      <td>5</td>\n",
       "    </tr>\n",
       "  </tbody>\n",
       "</table>\n",
       "<p>5 rows × 44 columns</p>\n",
       "</div>"
      ],
      "text/plain": [
       "     pitch_type pitcher batter  pitcher_ID  batter_ID  speed pitch_result  \\\n",
       "2194         직구     김광현    이대호       77829      71564  152.0          헛스윙   \n",
       "2195         직구     김광현    이대호       77829      71564  150.0            볼   \n",
       "2196         직구     김광현    이대호       77829      71564  151.0        스트라이크   \n",
       "2197         직구     김광현    이대호       77829      71564  151.0           파울   \n",
       "2198       슬라이더     김광현    이대호       77829      71564  144.0          헛스윙   \n",
       "\n",
       "     pa_result  balls  strikes     ...       pos_7  pos_8 pos_9  game_date  \\\n",
       "2194      None      0        0     ...         정의윤    김강민   한동민   20180325   \n",
       "2195      None      0        1     ...         정의윤    김강민   한동민   20180325   \n",
       "2196      None      1        1     ...         정의윤    김강민   한동민   20180325   \n",
       "2197      None      1        2     ...         정의윤    김강민   한동민   20180325   \n",
       "2198        삼진      1        2     ...         정의윤    김강민   한동민   20180325   \n",
       "\n",
       "      home away stadium referee pa_number pitch_number  \n",
       "2194    SK   LT      문학     NaN         4            1  \n",
       "2195    SK   LT      문학     NaN         4            2  \n",
       "2196    SK   LT      문학     NaN         4            3  \n",
       "2197    SK   LT      문학     NaN         4            4  \n",
       "2198    SK   LT      문학     NaN         4            5  \n",
       "\n",
       "[5 rows x 44 columns]"
      ]
     },
     "metadata": {},
     "output_type": "display_data"
    },
    {
     "data": {
      "image/png": "[encoded data removed]",
      "text/plain": [
       "<matplotlib.figure.Figure at 0x1090630b8>"
      ]
     },
     "metadata": {},
     "output_type": "display_data"
    }
   ],
   "source": [
    "# 간단하게 한 타석만 살펴보기로 한다.\n",
    "sub_df = df.loc[(df.pitcher == '김광현') & (df.batter == '이대호') & (df.inning == 1)]\n",
    "\n",
    "# 데이터를 확인\n",
    "display(sub_df)\n",
    "\n",
    "# 플롯을 띄운다.\n",
    "plot_calls(sub_df, title='1회초 김광현 vs 이대호', calls=['스트라이크', '볼', '헛스윙', '파울'], legends=True, show_pitch_number=True)"
   ]
  },
  {
   "cell_type": "markdown",
   "metadata": {},
   "source": [
    "나름 괜찮게(?) 로케이션이 표시된다. 단 그림의 범위 밖에 들어간 공은 표시되지 않는다.\n",
    "\n",
    "함수에 들어간 인자(argument)들의 의미는 각각 다음과 같다.\n",
    "\n",
    "`plot_calls( dataframe, title=None, calls=None, legends=True, show_pitch_number=True, print_std=False)`\n",
    "- `title` : 플롯 맨 위에 표시될 문자열.\n",
    "  - 기본은 `None`으로 아무것도 표시하지 않는다.\n",
    "- `calls` : 표시하고 싶은 투구 결과(pitch_result). 리스트 혹은 문자열 값만 받을 수 있다. 여러 값을 주는 경우 리스트를, 한 값만 주는 경우 문자열 하나만 사용한다.\n",
    "  - 기본 값은 `None`이며, 모든 투구 결과를 표시한다.\n",
    "- `legends` : 투구 결과(pitch result) 라벨 표시 여부를 결정한다. True면 그림 아래에 투구 결과 종류를 표시하고 False면 표시하지 않는다.\n",
    "  - 기본값은 True다.\n",
    "- `show_pitch_number` : 타석에 따른 투구 순서(초구, 2구, ...) 표시 여부를 결정한다. True면 로케이션 위에 투구수를 표시하고 False면 표시하지 않는다.\n",
    "  - 기본값은 True다."
   ]
  },
  {
   "cell_type": "markdown",
   "metadata": {},
   "source": [
    "### 스트라이크 존 규격\n",
    "\n",
    "위에서 설명하지 않은 `print_std`라는 인자가 있다. 이것을 True로 하면 그림의 스트라이크 존 모양을 타자 각각에 맞춰 정규화한 그림을 표시한다.\n",
    "- 예를 들어서 정근우, 호세 알투베 같은 단신 타자는 스트라이크 존의 상하 경계가 더 좁다. 이런 것에 맞춰 보정한 그림을 표시하는 것이다.\n",
    "\n",
    "`print_std`의 기본값은 False다. 즉 사용자가 설정하지 않으면 타자가 바뀌어도 동일한 존이 표시된다.\n",
    "\n",
    "기본적으로 표시되는 존의 규격은 다음과 같다.\n",
    "- 존의 __아래쪽 경계__는 지면에서 __+1.579 피트__, __위쪽 경계__는 __+3.325 피트__를 사용한다. N사 중계의 값을 그대로 사용했다.\n",
    "  - 그림에서 표시되는 존 모양의 안쪽 경계선(짙은 흰색 선)으로 표시된다.\n",
    "- 존의 __좌우 경계 너비__는 __홈 베이스의 좌우 폭__과 같다(17인치 = __17/12피트__). 가운데를 0으로 해 __-17/24 피트__, __+17/24 피트__가 홈의 좌우 경계선이 된다.\n",
    "- __바깥쪽 경계(옅은 흰색 선)__는 위 경계선에서 __공 반개씩__ 더한 것이다. 공 1개 지름은 약 3인치(3/12 피트)이기 때문에 __1/8 피트__를 상하좌우로 더해 그린 것이다."
   ]
  },
  {
   "cell_type": "markdown",
   "metadata": {},
   "source": [
    "# Plot 만들기(2) - 경기 전체 판정 / 결과 살펴보기\n",
    "\n",
    "### 경기 전체의 스트라이크 존 판정이 어땠는지 살펴보자."
   ]
  },
  {
   "cell_type": "markdown",
   "metadata": {},
   "source": [
    "특정 경기에서 판정이 어땠는지, 어떤 공이 파울이 됐고 어떤 공이 헛스윙이 됐는지 살펴보자.\n",
    "\n",
    "미리 준비된 함수 `plot_match_calls`를 사용하면 된다. 인자는 `DataFrame` 외에 `title` 만 존재한다.\n",
    "- 너무 많은 데이터를 인자로 넘기면 수행 시간이 오래 걸릴 수 있다. 항상 조심하자."
   ]
  },
  {
   "cell_type": "code",
   "execution_count": 11,
   "metadata": {},
   "outputs": [
    {
     "data": {
      "image/png": "[encoded data removed]",
      "text/plain": [
       "<matplotlib.figure.Figure at 0x106767a20>"
      ]
     },
     "metadata": {},
     "output_type": "display_data"
    }
   ],
   "source": [
    "# 3월 24일 문학 경기를 준비한다.\n",
    "sub_df = df.loc[(df.stadium == '문학') & (df.game_date == 20180324)]\n",
    "\n",
    "# 경기 전체 결과를 표시한다.\n",
    "plot_match_calls(sub_df, title='3월 24일 문학')"
   ]
  },
  {
   "cell_type": "markdown",
   "metadata": {},
   "source": [
    "# 릴리즈 포인트 살펴보기\n",
    "\n",
    "PBP 데이터에서 릴리즈 포인트는 `x0`, `z0` 값을 활용해 살펴볼 수 있다.\n",
    "\n",
    "릴리즈 포인트 분석은 투수의 컨디션을 파악하는데 도움이 된다. 이번에는 준비된 함수 대신 직접 데이터를 다뤄보자.\n",
    "\n",
    "일단 투구 구종이 어떤 것이 있는지 알아보자. `DataFrame`의 `drop_duplicates` 함수를 쓰면 중복된 값을 제거하여 데이터의 종류를 알아볼 수 있다."
   ]
  },
  {
   "cell_type": "code",
   "execution_count": 12,
   "metadata": {},
   "outputs": [
    {
     "data": {
      "text/plain": [
       "0        직구\n",
       "2      슬라이더\n",
       "16       커브\n",
       "21       투심\n",
       "62     체인지업\n",
       "188      포크\n",
       "329      커터\n",
       "350     너클볼\n",
       "Name: pitch_type, dtype: object"
      ]
     },
     "metadata": {},
     "output_type": "display_data"
    }
   ],
   "source": [
    "pitch_types = df.pitch_type.drop_duplicates()\n",
    "\n",
    "display(pitch_types)"
   ]
  },
  {
   "cell_type": "markdown",
   "metadata": {},
   "source": [
    "종류가 많은데 일단 너클볼을 제외한 구종들에 색을 대응시켜본다.\n",
    "\n",
    "- 구종 분류는 Pitch F/X 시스템에서 알고리즘을 활용해 미리 분류한 것이다. 실제 투수가 의도한 것과 결과가 다를 수 있다."
   ]
  },
  {
   "cell_type": "code",
   "execution_count": 13,
   "metadata": {},
   "outputs": [],
   "source": [
    "# 구종 별로 색을 미리 준비해놓는다.\n",
    "Colors = {\n",
    "    '직구': '#3245ef',\n",
    "    '슬라이더': '#ef2926',\n",
    "    '체인지업':'#1a1b1c',\n",
    "    '커브':'#edf72c',\n",
    "    '포크':'#8348d1',\n",
    "    '투심':'#edf72c',\n",
    "    '커터':'#1a1b1c'\n",
    "}"
   ]
  },
  {
   "cell_type": "markdown",
   "metadata": {},
   "source": [
    "모든 투구의 릴리즈 포인트를 표시하는 건 별 의미가 없다. 특정 투수의 릴리즈 포인트만 분석하는 것이 좋다.\n",
    "\n",
    "김광현의 데이터를 살펴보도록 하겠다."
   ]
  },
  {
   "cell_type": "code",
   "execution_count": 14,
   "metadata": {},
   "outputs": [],
   "source": [
    "sub_df = df.loc[df.pitcher == '김광현']"
   ]
  },
  {
   "cell_type": "markdown",
   "metadata": {},
   "source": [
    "본격적으로 Plot을 그려보자. 지금까지 그린 Plot은 모두 `matplotlib`이라는 라이브러리, 그 중에서도 `pyplot`이라는 모듈을 사용해 그린 것이다.\n",
    "\n",
    "이 모듈을 import한다."
   ]
  },
  {
   "cell_type": "code",
   "execution_count": 15,
   "metadata": {},
   "outputs": [],
   "source": [
    "import matplotlib.pyplot as plt"
   ]
  },
  {
   "cell_type": "markdown",
   "metadata": {},
   "source": [
    "이제 그림을 그릴 캔버스를 준비한다."
   ]
  },
  {
   "cell_type": "code",
   "execution_count": 16,
   "metadata": {},
   "outputs": [
    {
     "data": {
      "text/plain": [
       "<matplotlib.figure.Figure at 0x1082758d0>"
      ]
     },
     "metadata": {},
     "output_type": "display_data"
    }
   ],
   "source": [
    "# figsize는 플롯을 그릴 캔버스의 크기, dpi는 'dot per inch'의 약자로 해상도를 결정한다.\n",
    "# facecolor는 캔버스 배경을 흰색으로 칠하겠다는 것이다. 기본은 투명인데, 투명한 바탕에 그린 그림은 환경에 따라 배경이 까맣게 나타날 수도 있다.\n",
    "fig = plt.figure(figsize=(4, 4), dpi=80, facecolor='white')"
   ]
  },
  {
   "cell_type": "markdown",
   "metadata": {},
   "source": [
    "캔버스 위에 준비한 데이터의 `x0`, `z0` 좌표를 점으로 뿌리면 성공이다."
   ]
  },
  {
   "cell_type": "code",
   "execution_count": 17,
   "metadata": {},
   "outputs": [
    {
     "data": {
      "image/png": "[encoded data removed]",
      "text/plain": [
       "<matplotlib.figure.Figure at 0x1082f9198>"
      ]
     },
     "metadata": {},
     "output_type": "display_data"
    }
   ],
   "source": [
    "for p in pitch_types:\n",
    "    # 구종을 던진 기록이 없으면 넘어간다.\n",
    "    if len(sub_df.loc[sub_df.pitch_type == p]) == 0:\n",
    "        continue\n",
    "    \n",
    "    # 구종 별로 색깔(color)과 라벨(label)을 맞춰서 점을 찍는다(scatter).\n",
    "    plt.scatter(sub_df.loc[sub_df.pitch_type == p].x0, sub_df.loc[sub_df.pitch_type == p].z0, color=Colors[p], label=p)"
   ]
  },
  {
   "cell_type": "markdown",
   "metadata": {},
   "source": [
    "다 좋은데 너무 그림이 확대되어 있는 것 같다. 이때는 축의 범위를 원하는대로 설정할 수 있다.\n",
    "\n",
    "보기 좋게 표시하려면 릴리즈포인트의 범위를 고려해주면 좋다.\n",
    "\n",
    "- 왼손 투수의 경우, 릴리즈포인트의 X좌표(`x0`)는 보통 1~3피트 범위에 존재한다.\n",
    "- 높이를 나타내는 Z좌표(`z0`)는 보통 손 방향에 관계 없이 5~7피트 범위에 존재한다.\n",
    "\n",
    "메이저리그의 투구 트래킹 자료를 제공하는 [Brooks Baseball](http://www.brooksbaseball.net) 사이트는 오른손 투수를 표시하는 경우도 고려해서 X축의 범위는 -3~3피트, Z축 범위는 0~10피트를 설정하고 있다.\n",
    "\n",
    "이 범위에 맞춰 축의 범위를 조정해보자.\n",
    "\n",
    "- Jupyter Notebook에서 플롯을 그릴 때는 Cell 단위로 플롯 데이터가 리셋되기 때문에, 바로 윗 cell의 코드를 다시 붙여줘야 데이터가 제대로 표시된다."
   ]
  },
  {
   "cell_type": "code",
   "execution_count": 18,
   "metadata": {},
   "outputs": [
    {
     "data": {
      "text/plain": [
       "[-3, 3, 0, 10]"
      ]
     },
     "execution_count": 18,
     "metadata": {},
     "output_type": "execute_result"
    },
    {
     "data": {
      "image/png": "[encoded data removed]",
      "text/plain": [
       "<matplotlib.figure.Figure at 0x1082ed1d0>"
      ]
     },
     "metadata": {},
     "output_type": "display_data"
    }
   ],
   "source": [
    "for p in pitch_types:\n",
    "    # 구종을 던진 기록이 없으면 넘어간다.\n",
    "    if len(sub_df.loc[sub_df.pitch_type == p]) == 0:\n",
    "        continue\n",
    "    \n",
    "    # 구종 별로 색깔(color)과 라벨(label)을 맞춰서 점을 찍는다(scatter).\n",
    "    plt.scatter(sub_df.loc[sub_df.pitch_type == p].x0, sub_df.loc[sub_df.pitch_type == p].z0, color=Colors[p], label=p)\n",
    "\n",
    "# X축과 Y축 최소/최대 좌표 순서로 지정한다.\n",
    "plt.axis([-3, 3, 0, 10])"
   ]
  },
  {
   "cell_type": "markdown",
   "metadata": {},
   "source": [
    "이번엔 범위를 너무 키워서 점이 잘 보이지 않는다. 범위를 다시 조정해보자.\n",
    "\n",
    "여기에 구종 라벨을 표시하기 위해 범례(legend)도 추가하고, 최종적으로 플롯을 띄워보자."
   ]
  },
  {
   "cell_type": "code",
   "execution_count": 19,
   "metadata": {},
   "outputs": [
    {
     "data": {
      "image/png": "[encoded data removed]",
      "text/plain": [
       "<matplotlib.figure.Figure at 0x108371908>"
      ]
     },
     "metadata": {},
     "output_type": "display_data"
    }
   ],
   "source": [
    "for p in pitch_types:\n",
    "    # 구종을 던진 기록이 없으면 넘어간다.\n",
    "    if len(sub_df.loc[sub_df.pitch_type == p]) == 0:\n",
    "        continue\n",
    "    \n",
    "    # 구종 별로 색깔(color)과 라벨(label)을 맞춰서 점을 찍는다(scatter).\n",
    "    plt.scatter(sub_df.loc[sub_df.pitch_type == p].x0, sub_df.loc[sub_df.pitch_type == p].z0, color=Colors[p], label=p)\n",
    "\n",
    "# X축과 Y축 최소/최대 좌표 순서로 지정한다.\n",
    "plt.axis([1, 3, 5, 7])\n",
    "\n",
    "# 범례(legend)의 location은 숫자로 지정할 수 있다. 여기서는 9를 사용. 그 밖의 인자(argument)에 대한 자세한 내용은 matplotlib의 레퍼런스 페이지를 참조.\n",
    "plt.legend(loc=9, bbox_to_anchor=(0.5, -0.1), ncol=2)\n",
    "plt.show()"
   ]
  },
  {
   "cell_type": "markdown",
   "metadata": {},
   "source": [
    "# 헛스윙 비율 분석하기\n",
    "\n",
    "마지막으로 2017년 자료를 활용해 구종 별로 헛스윙 유도를 가장 잘한 투수들을 찾아보자.\n",
    "\n",
    "투구수가 너무 적은 경우 기록이 왜곡될 수 있기 때문에 구종 하나당 최소 250구 이상 던진 투수들을 분석 대상으로 한다."
   ]
  },
  {
   "cell_type": "code",
   "execution_count": 20,
   "metadata": {},
   "outputs": [],
   "source": [
    "# 2017년 데이터가 준비되지 않은 경우 아래 코드를 주석 제거하고 실행한다.\n",
    "#!python pfx.py -d 2017 > /dev/null\n",
    "#!python pfx.py -c 2017 > /dev/null\n",
    "\n",
    "df = pd.read_csv('pbp_data/2017/2017.csv')\n",
    "\n",
    "# string으로 된 숫자를 float, int등 numeric으로 바꾼다.\n",
    "df.loc[:, 'px'] = pd.to_numeric(df.px, errors='coerce')\n",
    "df.loc[:, 'pz'] = pd.to_numeric(df.pz, errors='coerce')\n",
    "df.loc[:, 'pfx_x'] = pd.to_numeric(df.pfx_x, errors='coerce')\n",
    "df.loc[:, 'pfx_z'] = pd.to_numeric(df.pfx_z, errors='coerce')\n",
    "df.loc[:, 'sz_top'] = pd.to_numeric(df.sz_top, errors='coerce')\n",
    "df.loc[:, 'sz_bot'] = pd.to_numeric(df.sz_bot, errors='coerce')"
   ]
  },
  {
   "cell_type": "markdown",
   "metadata": {},
   "source": [
    "분석 순서는 다음과 같다.\n",
    "\n",
    "- (1) 전체 데이터에서 투수 명단을 추출한다.\n",
    "- (2) 전체 데이터에서 구종 명단을 추출한다.\n",
    "- (3) 투수-구종으로 데이터를 묶는다(group by).\n",
    "- (4) 헛스윙 횟수를 잰다(count).\n",
    "- (5) 구종별로 투구수에서 헛스윙이 차지하는 비율을 계산한다.\n",
    "\n",
    "(4), (5)에서 구종별 비율을 계산하기 위해서는 `pitch_type`이 `NaN`, 'None' 등으로 표시된 데이터를 제거해야 한다.\n",
    "\n",
    "또한 (4)에서 헛스윙에는 '번트헛스윙'도 포함된다. (5)까지 진행한 뒤 '번트헛스윙' 비율과 '헛스윙' 비율을 더하면 되겠지만, 모든 투수/구종에 대해 같은 일을 반복하기는 귀찮으니 `pitch_result` 중 '번트헛스윙'을 '헛스윙'으로 바꿔보도록 하자. `pandas DataFrame`의 `replace`함수를 사용하면 편하다."
   ]
  },
  {
   "cell_type": "code",
   "execution_count": 21,
   "metadata": {},
   "outputs": [],
   "source": [
    "# NaN과 None을 pitch_type에서 제거한다.\n",
    "df = df.drop(df.loc[(df.pitch_type.isnull()) | (df.pitch_type == 'None')].index)\n",
    "\n",
    "# pitch_result의 번트헛스윙을 헛스윙으로 바꾼다. 기왕 하는 김에 번트파울도 파울로 바꾼다.\n",
    "df.pitch_result = df.pitch_result.replace('번트헛스윙', '헛스윙')\n",
    "df.pitch_result = df.pitch_result.replace('번트파울', '파울')"
   ]
  },
  {
   "cell_type": "markdown",
   "metadata": {},
   "source": [
    "다음으로는 헛스윙 비율을 계산한다.\n",
    "\n",
    "구종 별로 다음 과정을 반복한다.\n",
    "- (1) 최소 투구수가 넘는 투수만 찾아내고\n",
    "- (2) 투수-투구 결과(pitch_result; 헛스윙/타격/파울 등)로 그룹을 묶는다.\n",
    "- (3) 그룹 별로 개수를 구한다.\n",
    "- (4) 투수 그룹 안에서 투구 결과의 퍼센티지를 구한다.\n",
    "\n",
    "코드가 조금 복잡하지만 다음과 같다."
   ]
  },
  {
   "cell_type": "code",
   "execution_count": 22,
   "metadata": {},
   "outputs": [
    {
     "name": "stdout",
     "output_type": "stream",
     "text": [
      "직구\n"
     ]
    },
    {
     "data": {
      "text/html": [
       "<div>\n",
       "<style scoped>\n",
       "    .dataframe tbody tr th:only-of-type {\n",
       "        vertical-align: middle;\n",
       "    }\n",
       "\n",
       "    .dataframe tbody tr th {\n",
       "        vertical-align: top;\n",
       "    }\n",
       "\n",
       "    .dataframe thead th {\n",
       "        text-align: right;\n",
       "    }\n",
       "</style>\n",
       "<table border=\"1\" class=\"dataframe\">\n",
       "  <thead>\n",
       "    <tr style=\"text-align: right;\">\n",
       "      <th></th>\n",
       "      <th></th>\n",
       "      <th>swstr%</th>\n",
       "      <th>raw_num</th>\n",
       "    </tr>\n",
       "    <tr>\n",
       "      <th>pitcher</th>\n",
       "      <th>pitch_result</th>\n",
       "      <th></th>\n",
       "      <th></th>\n",
       "    </tr>\n",
       "  </thead>\n",
       "  <tbody>\n",
       "    <tr>\n",
       "      <th>정우람</th>\n",
       "      <th>헛스윙</th>\n",
       "      <td>15.3</td>\n",
       "      <td>97</td>\n",
       "    </tr>\n",
       "    <tr>\n",
       "      <th>신재웅</th>\n",
       "      <th>헛스윙</th>\n",
       "      <td>12.5</td>\n",
       "      <td>42</td>\n",
       "    </tr>\n",
       "    <tr>\n",
       "      <th>임창용</th>\n",
       "      <th>헛스윙</th>\n",
       "      <td>12.3</td>\n",
       "      <td>58</td>\n",
       "    </tr>\n",
       "  </tbody>\n",
       "</table>\n",
       "</div>"
      ],
      "text/plain": [
       "                      swstr%  raw_num\n",
       "pitcher pitch_result                 \n",
       "정우람     헛스윙             15.3       97\n",
       "신재웅     헛스윙             12.5       42\n",
       "임창용     헛스윙             12.3       58"
      ]
     },
     "metadata": {},
     "output_type": "display_data"
    },
    {
     "name": "stdout",
     "output_type": "stream",
     "text": [
      "슬라이더\n"
     ]
    },
    {
     "data": {
      "text/html": [
       "<div>\n",
       "<style scoped>\n",
       "    .dataframe tbody tr th:only-of-type {\n",
       "        vertical-align: middle;\n",
       "    }\n",
       "\n",
       "    .dataframe tbody tr th {\n",
       "        vertical-align: top;\n",
       "    }\n",
       "\n",
       "    .dataframe thead th {\n",
       "        text-align: right;\n",
       "    }\n",
       "</style>\n",
       "<table border=\"1\" class=\"dataframe\">\n",
       "  <thead>\n",
       "    <tr style=\"text-align: right;\">\n",
       "      <th></th>\n",
       "      <th></th>\n",
       "      <th>swstr%</th>\n",
       "      <th>raw_num</th>\n",
       "    </tr>\n",
       "    <tr>\n",
       "      <th>pitcher</th>\n",
       "      <th>pitch_result</th>\n",
       "      <th></th>\n",
       "      <th></th>\n",
       "    </tr>\n",
       "  </thead>\n",
       "  <tbody>\n",
       "    <tr>\n",
       "      <th>심창민</th>\n",
       "      <th>헛스윙</th>\n",
       "      <td>22.9</td>\n",
       "      <td>59</td>\n",
       "    </tr>\n",
       "    <tr>\n",
       "      <th>장시환</th>\n",
       "      <th>헛스윙</th>\n",
       "      <td>22.7</td>\n",
       "      <td>58</td>\n",
       "    </tr>\n",
       "    <tr>\n",
       "      <th>윤길현</th>\n",
       "      <th>헛스윙</th>\n",
       "      <td>19.8</td>\n",
       "      <td>52</td>\n",
       "    </tr>\n",
       "  </tbody>\n",
       "</table>\n",
       "</div>"
      ],
      "text/plain": [
       "                      swstr%  raw_num\n",
       "pitcher pitch_result                 \n",
       "심창민     헛스윙             22.9       59\n",
       "장시환     헛스윙             22.7       58\n",
       "윤길현     헛스윙             19.8       52"
      ]
     },
     "metadata": {},
     "output_type": "display_data"
    },
    {
     "name": "stdout",
     "output_type": "stream",
     "text": [
      "커브\n"
     ]
    },
    {
     "data": {
      "text/html": [
       "<div>\n",
       "<style scoped>\n",
       "    .dataframe tbody tr th:only-of-type {\n",
       "        vertical-align: middle;\n",
       "    }\n",
       "\n",
       "    .dataframe tbody tr th {\n",
       "        vertical-align: top;\n",
       "    }\n",
       "\n",
       "    .dataframe thead th {\n",
       "        text-align: right;\n",
       "    }\n",
       "</style>\n",
       "<table border=\"1\" class=\"dataframe\">\n",
       "  <thead>\n",
       "    <tr style=\"text-align: right;\">\n",
       "      <th></th>\n",
       "      <th></th>\n",
       "      <th>swstr%</th>\n",
       "      <th>raw_num</th>\n",
       "    </tr>\n",
       "    <tr>\n",
       "      <th>pitcher</th>\n",
       "      <th>pitch_result</th>\n",
       "      <th></th>\n",
       "      <th></th>\n",
       "    </tr>\n",
       "  </thead>\n",
       "  <tbody>\n",
       "    <tr>\n",
       "      <th>해커</th>\n",
       "      <th>헛스윙</th>\n",
       "      <td>20.0</td>\n",
       "      <td>51</td>\n",
       "    </tr>\n",
       "    <tr>\n",
       "      <th>배장호</th>\n",
       "      <th>헛스윙</th>\n",
       "      <td>15.0</td>\n",
       "      <td>69</td>\n",
       "    </tr>\n",
       "    <tr>\n",
       "      <th>헥터</th>\n",
       "      <th>헛스윙</th>\n",
       "      <td>13.5</td>\n",
       "      <td>49</td>\n",
       "    </tr>\n",
       "  </tbody>\n",
       "</table>\n",
       "</div>"
      ],
      "text/plain": [
       "                      swstr%  raw_num\n",
       "pitcher pitch_result                 \n",
       "해커      헛스윙             20.0       51\n",
       "배장호     헛스윙             15.0       69\n",
       "헥터      헛스윙             13.5       49"
      ]
     },
     "metadata": {},
     "output_type": "display_data"
    },
    {
     "name": "stdout",
     "output_type": "stream",
     "text": [
      "체인지업\n"
     ]
    },
    {
     "data": {
      "text/html": [
       "<div>\n",
       "<style scoped>\n",
       "    .dataframe tbody tr th:only-of-type {\n",
       "        vertical-align: middle;\n",
       "    }\n",
       "\n",
       "    .dataframe tbody tr th {\n",
       "        vertical-align: top;\n",
       "    }\n",
       "\n",
       "    .dataframe thead th {\n",
       "        text-align: right;\n",
       "    }\n",
       "</style>\n",
       "<table border=\"1\" class=\"dataframe\">\n",
       "  <thead>\n",
       "    <tr style=\"text-align: right;\">\n",
       "      <th></th>\n",
       "      <th></th>\n",
       "      <th>swstr%</th>\n",
       "      <th>raw_num</th>\n",
       "    </tr>\n",
       "    <tr>\n",
       "      <th>pitcher</th>\n",
       "      <th>pitch_result</th>\n",
       "      <th></th>\n",
       "      <th></th>\n",
       "    </tr>\n",
       "  </thead>\n",
       "  <tbody>\n",
       "    <tr>\n",
       "      <th>고영표</th>\n",
       "      <th>헛스윙</th>\n",
       "      <td>25.1</td>\n",
       "      <td>172</td>\n",
       "    </tr>\n",
       "    <tr>\n",
       "      <th>함덕주</th>\n",
       "      <th>헛스윙</th>\n",
       "      <td>21.1</td>\n",
       "      <td>123</td>\n",
       "    </tr>\n",
       "    <tr>\n",
       "      <th>켈리</th>\n",
       "      <th>헛스윙</th>\n",
       "      <td>20.2</td>\n",
       "      <td>125</td>\n",
       "    </tr>\n",
       "  </tbody>\n",
       "</table>\n",
       "</div>"
      ],
      "text/plain": [
       "                      swstr%  raw_num\n",
       "pitcher pitch_result                 \n",
       "고영표     헛스윙             25.1      172\n",
       "함덕주     헛스윙             21.1      123\n",
       "켈리      헛스윙             20.2      125"
      ]
     },
     "metadata": {},
     "output_type": "display_data"
    },
    {
     "name": "stdout",
     "output_type": "stream",
     "text": [
      "투심\n"
     ]
    },
    {
     "data": {
      "text/html": [
       "<div>\n",
       "<style scoped>\n",
       "    .dataframe tbody tr th:only-of-type {\n",
       "        vertical-align: middle;\n",
       "    }\n",
       "\n",
       "    .dataframe tbody tr th {\n",
       "        vertical-align: top;\n",
       "    }\n",
       "\n",
       "    .dataframe thead th {\n",
       "        text-align: right;\n",
       "    }\n",
       "</style>\n",
       "<table border=\"1\" class=\"dataframe\">\n",
       "  <thead>\n",
       "    <tr style=\"text-align: right;\">\n",
       "      <th></th>\n",
       "      <th></th>\n",
       "      <th>swstr%</th>\n",
       "      <th>raw_num</th>\n",
       "    </tr>\n",
       "    <tr>\n",
       "      <th>pitcher</th>\n",
       "      <th>pitch_result</th>\n",
       "      <th></th>\n",
       "      <th></th>\n",
       "    </tr>\n",
       "  </thead>\n",
       "  <tbody>\n",
       "    <tr>\n",
       "      <th>박희수</th>\n",
       "      <th>헛스윙</th>\n",
       "      <td>12.1</td>\n",
       "      <td>31</td>\n",
       "    </tr>\n",
       "    <tr>\n",
       "      <th>켈리</th>\n",
       "      <th>헛스윙</th>\n",
       "      <td>11.4</td>\n",
       "      <td>38</td>\n",
       "    </tr>\n",
       "    <tr>\n",
       "      <th>원종현</th>\n",
       "      <th>헛스윙</th>\n",
       "      <td>10.8</td>\n",
       "      <td>28</td>\n",
       "    </tr>\n",
       "  </tbody>\n",
       "</table>\n",
       "</div>"
      ],
      "text/plain": [
       "                      swstr%  raw_num\n",
       "pitcher pitch_result                 \n",
       "박희수     헛스윙             12.1       31\n",
       "켈리      헛스윙             11.4       38\n",
       "원종현     헛스윙             10.8       28"
      ]
     },
     "metadata": {},
     "output_type": "display_data"
    },
    {
     "name": "stdout",
     "output_type": "stream",
     "text": [
      "포크\n"
     ]
    },
    {
     "data": {
      "text/html": [
       "<div>\n",
       "<style scoped>\n",
       "    .dataframe tbody tr th:only-of-type {\n",
       "        vertical-align: middle;\n",
       "    }\n",
       "\n",
       "    .dataframe tbody tr th {\n",
       "        vertical-align: top;\n",
       "    }\n",
       "\n",
       "    .dataframe thead th {\n",
       "        text-align: right;\n",
       "    }\n",
       "</style>\n",
       "<table border=\"1\" class=\"dataframe\">\n",
       "  <thead>\n",
       "    <tr style=\"text-align: right;\">\n",
       "      <th></th>\n",
       "      <th></th>\n",
       "      <th>swstr%</th>\n",
       "      <th>raw_num</th>\n",
       "    </tr>\n",
       "    <tr>\n",
       "      <th>pitcher</th>\n",
       "      <th>pitch_result</th>\n",
       "      <th></th>\n",
       "      <th></th>\n",
       "    </tr>\n",
       "  </thead>\n",
       "  <tbody>\n",
       "    <tr>\n",
       "      <th>김진성</th>\n",
       "      <th>헛스윙</th>\n",
       "      <td>26.4</td>\n",
       "      <td>155</td>\n",
       "    </tr>\n",
       "    <tr>\n",
       "      <th>이민호</th>\n",
       "      <th>헛스윙</th>\n",
       "      <td>23.0</td>\n",
       "      <td>80</td>\n",
       "    </tr>\n",
       "    <tr>\n",
       "      <th>최충연</th>\n",
       "      <th>헛스윙</th>\n",
       "      <td>22.3</td>\n",
       "      <td>65</td>\n",
       "    </tr>\n",
       "  </tbody>\n",
       "</table>\n",
       "</div>"
      ],
      "text/plain": [
       "                      swstr%  raw_num\n",
       "pitcher pitch_result                 \n",
       "김진성     헛스윙             26.4      155\n",
       "이민호     헛스윙             23.0       80\n",
       "최충연     헛스윙             22.3       65"
      ]
     },
     "metadata": {},
     "output_type": "display_data"
    },
    {
     "name": "stdout",
     "output_type": "stream",
     "text": [
      "싱커 pass\n",
      "커터\n"
     ]
    },
    {
     "data": {
      "text/html": [
       "<div>\n",
       "<style scoped>\n",
       "    .dataframe tbody tr th:only-of-type {\n",
       "        vertical-align: middle;\n",
       "    }\n",
       "\n",
       "    .dataframe tbody tr th {\n",
       "        vertical-align: top;\n",
       "    }\n",
       "\n",
       "    .dataframe thead th {\n",
       "        text-align: right;\n",
       "    }\n",
       "</style>\n",
       "<table border=\"1\" class=\"dataframe\">\n",
       "  <thead>\n",
       "    <tr style=\"text-align: right;\">\n",
       "      <th></th>\n",
       "      <th></th>\n",
       "      <th>swstr%</th>\n",
       "      <th>raw_num</th>\n",
       "    </tr>\n",
       "    <tr>\n",
       "      <th>pitcher</th>\n",
       "      <th>pitch_result</th>\n",
       "      <th></th>\n",
       "      <th></th>\n",
       "    </tr>\n",
       "  </thead>\n",
       "  <tbody>\n",
       "    <tr>\n",
       "      <th>손승락</th>\n",
       "      <th>헛스윙</th>\n",
       "      <td>14.3</td>\n",
       "      <td>67</td>\n",
       "    </tr>\n",
       "    <tr>\n",
       "      <th>켈리</th>\n",
       "      <th>헛스윙</th>\n",
       "      <td>14.1</td>\n",
       "      <td>74</td>\n",
       "    </tr>\n",
       "    <tr>\n",
       "      <th>허프</th>\n",
       "      <th>헛스윙</th>\n",
       "      <td>9.3</td>\n",
       "      <td>53</td>\n",
       "    </tr>\n",
       "  </tbody>\n",
       "</table>\n",
       "</div>"
      ],
      "text/plain": [
       "                      swstr%  raw_num\n",
       "pitcher pitch_result                 \n",
       "손승락     헛스윙             14.3       67\n",
       "켈리      헛스윙             14.1       74\n",
       "허프      헛스윙              9.3       53"
      ]
     },
     "metadata": {},
     "output_type": "display_data"
    },
    {
     "name": "stdout",
     "output_type": "stream",
     "text": [
      "너클볼\n"
     ]
    },
    {
     "data": {
      "text/html": [
       "<div>\n",
       "<style scoped>\n",
       "    .dataframe tbody tr th:only-of-type {\n",
       "        vertical-align: middle;\n",
       "    }\n",
       "\n",
       "    .dataframe tbody tr th {\n",
       "        vertical-align: top;\n",
       "    }\n",
       "\n",
       "    .dataframe thead th {\n",
       "        text-align: right;\n",
       "    }\n",
       "</style>\n",
       "<table border=\"1\" class=\"dataframe\">\n",
       "  <thead>\n",
       "    <tr style=\"text-align: right;\">\n",
       "      <th></th>\n",
       "      <th></th>\n",
       "      <th>swstr%</th>\n",
       "      <th>raw_num</th>\n",
       "    </tr>\n",
       "    <tr>\n",
       "      <th>pitcher</th>\n",
       "      <th>pitch_result</th>\n",
       "      <th></th>\n",
       "      <th></th>\n",
       "    </tr>\n",
       "  </thead>\n",
       "  <tbody>\n",
       "    <tr>\n",
       "      <th>피어밴드</th>\n",
       "      <th>헛스윙</th>\n",
       "      <td>11.6</td>\n",
       "      <td>49</td>\n",
       "    </tr>\n",
       "  </tbody>\n",
       "</table>\n",
       "</div>"
      ],
      "text/plain": [
       "                      swstr%  raw_num\n",
       "pitcher pitch_result                 \n",
       "피어밴드    헛스윙             11.6       49"
      ]
     },
     "metadata": {},
     "output_type": "display_data"
    }
   ],
   "source": [
    "# swstr% 구하기; swstr% = 헛스윙/전체 pitch (구종별)\n",
    "sub_df = pd.DataFrame({'pitcher': df.pitcher, 'pitch_type': df.pitch_type, 'pitch_result': df.pitch_result, 'swstr%': 1})\n",
    "\n",
    "# 구종 종류\n",
    "pitch_types = df.pitch_type.drop_duplicates()\n",
    "\n",
    "# 최소 투구수; 구종별 250구로 설정한다.\n",
    "pitch_threshold = 250\n",
    "\n",
    "for pitch in pitch_types:\n",
    "    # 해당 구종만 분류; 투수 그룹으로 묶음\n",
    "    pitchers = sub_df.loc[sub_df.pitch_type == pitch].groupby(['pitcher'])\n",
    "    \n",
    "    # 최소 투구수 넘는 경우만 필터\n",
    "    filtered = pitchers.filter(lambda x: x['swstr%'].sum() > pitch_threshold)\n",
    "    \n",
    "    # 필터 통과한 투수 목록\n",
    "    l = filtered.pitcher.drop_duplicates()\n",
    "    \n",
    "    # 특정 구종은 투수가 없는 경우도 있음 - 이런 경우는 패스\n",
    "    if len(l) == 0:\n",
    "        print(pitch + ' pass')\n",
    "        continue\n",
    "        \n",
    "    # 구종 필터 걸고, 투수-투구결과(헛스윙/타격/파울 등)로 그룹\n",
    "    swstrs = sub_df.loc[ (sub_df.pitcher.isin(list(l))) &\n",
    "                         (sub_df.pitch_type == pitch) ].groupby(['pitcher', 'pitch_result']).agg({'swstr%': 'sum'})\n",
    "\n",
    "    # pitch result별 swstr%를 구종 투구수 전체로 나눔; 이렇게하면 swstr%가 퍼센티지로 나옴.\n",
    "    swstr_pcts = swstrs.groupby(level=0).apply(lambda x: 100*x/x.sum())\n",
    "    \n",
    "    # 헛스윙 raw num 컬럼도 하나 표시.\n",
    "    swstr_pcts['raw_num'] = swstrs['swstr%']\n",
    "    \n",
    "    print(pitch)\n",
    "    result = swstr_pcts.iloc[swstr_pcts.index.get_level_values('pitch_result') == '헛스윙'].sort_values('swstr%', ascending=False)\n",
    "\n",
    "    display(result[:3])"
   ]
  }
 ],
 "metadata": {
  "kernelspec": {
   "display_name": "Python 3",
   "language": "python",
   "name": "python3"
  },
  "language_info": {
   "codemirror_mode": {
    "name": "ipython",
    "version": 3
   },
   "file_extension": ".py",
   "mimetype": "text/x-python",
   "name": "python",
   "nbconvert_exporter": "python",
   "pygments_lexer": "ipython3",
   "version": "3.6.4"
  }
 },
 "nbformat": 4,
 "nbformat_minor": 2
}
