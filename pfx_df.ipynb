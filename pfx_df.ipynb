{
 "cells": [
  {
   "cell_type": "markdown",
   "metadata": {},
   "source": [
    "# Pitch F/X 데이터를 활용한 분석\n",
    "Pitch F/X 데이터는 `pfx.py`를 사용해 N사의 문자중계(gameday) 시스템에서 읽어올 수 있으며, `pbp_data`경로 아래에 연도/월별로 CSV 포맷으로 저장된다.\n",
    "\n",
    "여기서는 `pfx.py`로 다운받은 데이터를 `pandas` 모듈을 사용하여 시각화하고 분석하는 예제를 제공한다.\n",
    "\n",
    "`pandas`의 자세한 사용 방법을 기술하기에는 시간이 오래 걸리므로 생략한다.\n",
    "\n",
    "분석에 필요한 함수는 `pfx_plot.py` 안에 미리 준비되어 있다."
   ]
  },
  {
   "cell_type": "markdown",
   "metadata": {},
   "source": [
    "## 1. 준비\n",
    "필요한 모듈을 로드한다."
   ]
  },
  {
   "cell_type": "code",
   "execution_count": 1,
   "metadata": {},
   "outputs": [],
   "source": [
    "%matplotlib inline\n",
    "\n",
    "# pandas 모듈은 흔히 pd라는 약칭으로 사용된다. Global 표준에 가깝다.\n",
    "import pandas as pd\n",
    "from IPython.display import HTML\n",
    "from IPython.display import display\n",
    "\n",
    "# 커스텀 라이브러리를 import한다.\n",
    "from pfx_plot import *\n",
    "\n",
    "# precision 세팅을 한다. 내부 값은 소수점 1자리까지만 표시되도록 저장하고, display 시에도 마찬가지로 표시하도록 한다.\n",
    "pd.set_option('precision', 1)\n",
    "pd.set_option('display.float_format', lambda x: '%.1f' % x)"
   ]
  },
  {
   "cell_type": "markdown",
   "metadata": {},
   "source": [
    "## 2. 데이터 읽어오기\n",
    "PFX parser를 이용해 데이터는 CSV 포맷으로 저장되어 있다고 가정한다.\n",
    "\n",
    "그렇지 않고 Linux/Mac을 사용하는 경우, 크롤러가 저장된 경로에서 아래 cell을 실행하면 2018년 3월 데이터를 새로 다운로드받고 파싱해서 저장한다.\n",
    "- windows에서는 /dev/null이 없으므로 오류가 생길 수 있다.\n",
    " - 다만 cygwin Terminal이나 Git Bash shell 등에서 Jupyter Notebook을 실행 중이라면 괜찮을 것이다(/dev/null이 있을 것이므로).\n",
    "- 현재 이 코드를 작성하는 시점이 2018년 3월이라서 3월 것을 다운로드받도록 했다."
   ]
  },
  {
   "cell_type": "code",
   "execution_count": 3,
   "metadata": {},
   "outputs": [],
   "source": [
    "!python pfx.py -d 2018 3 > /dev/null\n",
    "!python pfx.py -c 2018 3 > /dev/null"
   ]
  },
  {
   "cell_type": "markdown",
   "metadata": {},
   "source": [
    "2018년도 play-by-play 데이터를 pandas DataFrame으로 로드한다."
   ]
  },
  {
   "cell_type": "code",
   "execution_count": 7,
   "metadata": {},
   "outputs": [
    {
     "data": {
      "text/html": [
       "<div>\n",
       "<style scoped>\n",
       "    .dataframe tbody tr th:only-of-type {\n",
       "        vertical-align: middle;\n",
       "    }\n",
       "\n",
       "    .dataframe tbody tr th {\n",
       "        vertical-align: top;\n",
       "    }\n",
       "\n",
       "    .dataframe thead th {\n",
       "        text-align: right;\n",
       "    }\n",
       "</style>\n",
       "<table border=\"1\" class=\"dataframe\">\n",
       "  <thead>\n",
       "    <tr style=\"text-align: right;\">\n",
       "      <th></th>\n",
       "      <th>pitch_type</th>\n",
       "      <th>pitcher</th>\n",
       "      <th>batter</th>\n",
       "      <th>pitcher_ID</th>\n",
       "      <th>batter_ID</th>\n",
       "      <th>speed</th>\n",
       "      <th>pitch_result</th>\n",
       "      <th>pa_result</th>\n",
       "      <th>balls</th>\n",
       "      <th>strikes</th>\n",
       "      <th>...</th>\n",
       "      <th>pos_7</th>\n",
       "      <th>pos_8</th>\n",
       "      <th>pos_9</th>\n",
       "      <th>game_date</th>\n",
       "      <th>home</th>\n",
       "      <th>away</th>\n",
       "      <th>stadium</th>\n",
       "      <th>referee</th>\n",
       "      <th>pa_number</th>\n",
       "      <th>pitch_number</th>\n",
       "    </tr>\n",
       "  </thead>\n",
       "  <tbody>\n",
       "    <tr>\n",
       "      <th>0</th>\n",
       "      <td>직구</td>\n",
       "      <td>로저스</td>\n",
       "      <td>이용규</td>\n",
       "      <td>65742</td>\n",
       "      <td>74163</td>\n",
       "      <td>147</td>\n",
       "      <td>헛스윙</td>\n",
       "      <td>None</td>\n",
       "      <td>0</td>\n",
       "      <td>0</td>\n",
       "      <td>...</td>\n",
       "      <td>이정후</td>\n",
       "      <td>임병욱</td>\n",
       "      <td>초이스</td>\n",
       "      <td>20180324</td>\n",
       "      <td>WO</td>\n",
       "      <td>HH</td>\n",
       "      <td>고척</td>\n",
       "      <td>최수원</td>\n",
       "      <td>1</td>\n",
       "      <td>1</td>\n",
       "    </tr>\n",
       "    <tr>\n",
       "      <th>1</th>\n",
       "      <td>직구</td>\n",
       "      <td>로저스</td>\n",
       "      <td>이용규</td>\n",
       "      <td>65742</td>\n",
       "      <td>74163</td>\n",
       "      <td>147</td>\n",
       "      <td>스트라이크</td>\n",
       "      <td>None</td>\n",
       "      <td>0</td>\n",
       "      <td>1</td>\n",
       "      <td>...</td>\n",
       "      <td>이정후</td>\n",
       "      <td>임병욱</td>\n",
       "      <td>초이스</td>\n",
       "      <td>20180324</td>\n",
       "      <td>WO</td>\n",
       "      <td>HH</td>\n",
       "      <td>고척</td>\n",
       "      <td>최수원</td>\n",
       "      <td>1</td>\n",
       "      <td>2</td>\n",
       "    </tr>\n",
       "    <tr>\n",
       "      <th>2</th>\n",
       "      <td>슬라이더</td>\n",
       "      <td>로저스</td>\n",
       "      <td>이용규</td>\n",
       "      <td>65742</td>\n",
       "      <td>74163</td>\n",
       "      <td>135</td>\n",
       "      <td>스트라이크</td>\n",
       "      <td>삼진</td>\n",
       "      <td>0</td>\n",
       "      <td>2</td>\n",
       "      <td>...</td>\n",
       "      <td>이정후</td>\n",
       "      <td>임병욱</td>\n",
       "      <td>초이스</td>\n",
       "      <td>20180324</td>\n",
       "      <td>WO</td>\n",
       "      <td>HH</td>\n",
       "      <td>고척</td>\n",
       "      <td>최수원</td>\n",
       "      <td>1</td>\n",
       "      <td>3</td>\n",
       "    </tr>\n",
       "    <tr>\n",
       "      <th>3</th>\n",
       "      <td>직구</td>\n",
       "      <td>로저스</td>\n",
       "      <td>양성우</td>\n",
       "      <td>65742</td>\n",
       "      <td>62797</td>\n",
       "      <td>147</td>\n",
       "      <td>볼</td>\n",
       "      <td>None</td>\n",
       "      <td>0</td>\n",
       "      <td>0</td>\n",
       "      <td>...</td>\n",
       "      <td>이정후</td>\n",
       "      <td>임병욱</td>\n",
       "      <td>초이스</td>\n",
       "      <td>20180324</td>\n",
       "      <td>WO</td>\n",
       "      <td>HH</td>\n",
       "      <td>고척</td>\n",
       "      <td>최수원</td>\n",
       "      <td>2</td>\n",
       "      <td>1</td>\n",
       "    </tr>\n",
       "    <tr>\n",
       "      <th>4</th>\n",
       "      <td>직구</td>\n",
       "      <td>로저스</td>\n",
       "      <td>양성우</td>\n",
       "      <td>65742</td>\n",
       "      <td>62797</td>\n",
       "      <td>146</td>\n",
       "      <td>볼</td>\n",
       "      <td>None</td>\n",
       "      <td>1</td>\n",
       "      <td>0</td>\n",
       "      <td>...</td>\n",
       "      <td>이정후</td>\n",
       "      <td>임병욱</td>\n",
       "      <td>초이스</td>\n",
       "      <td>20180324</td>\n",
       "      <td>WO</td>\n",
       "      <td>HH</td>\n",
       "      <td>고척</td>\n",
       "      <td>최수원</td>\n",
       "      <td>2</td>\n",
       "      <td>2</td>\n",
       "    </tr>\n",
       "  </tbody>\n",
       "</table>\n",
       "<p>5 rows × 44 columns</p>\n",
       "</div>"
      ],
      "text/plain": [
       "  pitch_type pitcher batter  pitcher_ID  batter_ID speed pitch_result  \\\n",
       "0         직구     로저스    이용규       65742      74163   147          헛스윙   \n",
       "1         직구     로저스    이용규       65742      74163   147        스트라이크   \n",
       "2       슬라이더     로저스    이용규       65742      74163   135        스트라이크   \n",
       "3         직구     로저스    양성우       65742      62797   147            볼   \n",
       "4         직구     로저스    양성우       65742      62797   146            볼   \n",
       "\n",
       "  pa_result  balls  strikes     ...       pos_7  pos_8 pos_9  game_date  home  \\\n",
       "0      None      0        0     ...         이정후    임병욱   초이스   20180324    WO   \n",
       "1      None      0        1     ...         이정후    임병욱   초이스   20180324    WO   \n",
       "2        삼진      0        2     ...         이정후    임병욱   초이스   20180324    WO   \n",
       "3      None      0        0     ...         이정후    임병욱   초이스   20180324    WO   \n",
       "4      None      1        0     ...         이정후    임병욱   초이스   20180324    WO   \n",
       "\n",
       "  away stadium referee pa_number pitch_number  \n",
       "0   HH      고척     최수원         1            1  \n",
       "1   HH      고척     최수원         1            2  \n",
       "2   HH      고척     최수원         1            3  \n",
       "3   HH      고척     최수원         2            1  \n",
       "4   HH      고척     최수원         2            2  \n",
       "\n",
       "[5 rows x 44 columns]"
      ]
     },
     "metadata": {},
     "output_type": "display_data"
    }
   ],
   "source": [
    "df = pd.read_csv('pbp_data/2018/2018.csv')\n",
    "# Windows(한글)에서 저장한 데이터를 로드할 때는 아래 코드를 실행한다.\n",
    "# df = pd.reac_csv('pbp_data/2018/2018.csv', encoding='cp949')\n",
    "\n",
    "# show some\n",
    "display(df[:5])"
   ]
  },
  {
   "cell_type": "markdown",
   "metadata": {},
   "source": [
    "로드된 데이터를 보면 열(column)이 길어서 중간에 축약 처리(`...`)가 된 것을 볼 수 있다.\n",
    "\n",
    "열의 이름을 알기 위해 CSV 파일을 엑셀이나 텍스트 에디터로 열어보는 방법도 있지만, 1MB 이상 되는 파일을 매번 열어보는 건 시간상 현명한 선택이 아니다.\n",
    "\n",
    "대신 pandas DataFrame에 내장된 기능을 사용, 로드한 데이터의 key를 알아낼 수 있다."
   ]
  },
  {
   "cell_type": "code",
   "execution_count": 8,
   "metadata": {},
   "outputs": [
    {
     "data": {
      "text/plain": [
       "Index(['pitch_type', 'pitcher', 'batter', 'pitcher_ID', 'batter_ID', 'speed',\n",
       "       'pitch_result', 'pa_result', 'balls', 'strikes', 'outs', 'inning',\n",
       "       'inning_topbot', 'score_away', 'score_home', 'stands', 'throws',\n",
       "       'on_1b', 'on_2b', 'on_3b', 'px', 'pz', 'pfx_x', 'pfx_z', 'x0', 'z0',\n",
       "       'sz_top', 'sz_bot', 'pos_1', 'pos_2', 'pos_3', 'pos_4', 'pos_5',\n",
       "       'pos_6', 'pos_7', 'pos_8', 'pos_9', 'game_date', 'home', 'away',\n",
       "       'stadium', 'referee', 'pa_number', 'pitch_number'],\n",
       "      dtype='object')"
      ]
     },
     "metadata": {},
     "output_type": "display_data"
    }
   ],
   "source": [
    "display(df.keys())"
   ]
  },
  {
   "cell_type": "markdown",
   "metadata": {},
   "source": [
    "'key'는 CSV 파일의 열 이름을 뜻한다. 40여개 가까운 key가 있다. 매번 외울 수는 없으니 기억이 나지 않을 때마다 `df.keys()`를 잘 활용해주자."
   ]
  },
  {
   "cell_type": "markdown",
   "metadata": {},
   "source": [
    "## 3. 데이터 전처리\n",
    "\n",
    "본격적인 분석을 하기에 앞서, 한가지 더 해야 할 것이 있다. 쓰레기값(Null)을 갖는 데이터 행(row)을 삭제하는 것이다.\n",
    "\n",
    "예를 들어서 엑셀에서 CSV파일을 연 경우, 구속의 평균을 내야 하는데 숫자가 아닌 `NaN`(Not a Number; 숫자가 아님)이나 'None' 같은 문자 데이터가 들어있다면 Average 함수가 정상 작동하지 않을 것이다.\n",
    "\n",
    "pandas도 마찬가지다. 웬만한 건 스마트하게 처리해주지만, 저런 필요 없는/에러를 유발할 수 있는 데이터는 삭제해줘야 한다."
   ]
  },
  {
   "cell_type": "code",
   "execution_count": 12,
   "metadata": {},
   "outputs": [
    {
     "data": {
      "text/html": [
       "<div>\n",
       "<style scoped>\n",
       "    .dataframe tbody tr th:only-of-type {\n",
       "        vertical-align: middle;\n",
       "    }\n",
       "\n",
       "    .dataframe tbody tr th {\n",
       "        vertical-align: top;\n",
       "    }\n",
       "\n",
       "    .dataframe thead th {\n",
       "        text-align: right;\n",
       "    }\n",
       "</style>\n",
       "<table border=\"1\" class=\"dataframe\">\n",
       "  <thead>\n",
       "    <tr style=\"text-align: right;\">\n",
       "      <th></th>\n",
       "      <th>pitch_type</th>\n",
       "      <th>pitcher</th>\n",
       "      <th>batter</th>\n",
       "      <th>speed</th>\n",
       "      <th>px</th>\n",
       "      <th>pz</th>\n",
       "    </tr>\n",
       "  </thead>\n",
       "  <tbody>\n",
       "    <tr>\n",
       "      <th>1432</th>\n",
       "      <td>NaN</td>\n",
       "      <td>윤성환</td>\n",
       "      <td>파레디스</td>\n",
       "      <td>0</td>\n",
       "      <td>-1.72259</td>\n",
       "      <td>2.83779</td>\n",
       "    </tr>\n",
       "    <tr>\n",
       "      <th>1433</th>\n",
       "      <td>NaN</td>\n",
       "      <td>윤성환</td>\n",
       "      <td>파레디스</td>\n",
       "      <td>0</td>\n",
       "      <td>0.28726</td>\n",
       "      <td>2.44873</td>\n",
       "    </tr>\n",
       "    <tr>\n",
       "      <th>2348</th>\n",
       "      <td>NaN</td>\n",
       "      <td>윤성빈</td>\n",
       "      <td>한동민</td>\n",
       "      <td>0</td>\n",
       "      <td>0.87464</td>\n",
       "      <td>1.6864</td>\n",
       "    </tr>\n",
       "  </tbody>\n",
       "</table>\n",
       "</div>"
      ],
      "text/plain": [
       "     pitch_type pitcher batter speed        px       pz\n",
       "1432        NaN     윤성환   파레디스     0  -1.72259  2.83779\n",
       "1433        NaN     윤성환   파레디스     0   0.28726  2.44873\n",
       "2348        NaN     윤성빈    한동민     0   0.87464   1.6864"
      ]
     },
     "metadata": {},
     "output_type": "display_data"
    },
    {
     "data": {
      "text/html": [
       "<div>\n",
       "<style scoped>\n",
       "    .dataframe tbody tr th:only-of-type {\n",
       "        vertical-align: middle;\n",
       "    }\n",
       "\n",
       "    .dataframe tbody tr th {\n",
       "        vertical-align: top;\n",
       "    }\n",
       "\n",
       "    .dataframe thead th {\n",
       "        text-align: right;\n",
       "    }\n",
       "</style>\n",
       "<table border=\"1\" class=\"dataframe\">\n",
       "  <thead>\n",
       "    <tr style=\"text-align: right;\">\n",
       "      <th></th>\n",
       "      <th>pitch_type</th>\n",
       "      <th>pitcher</th>\n",
       "      <th>batter</th>\n",
       "      <th>speed</th>\n",
       "      <th>px</th>\n",
       "      <th>pz</th>\n",
       "    </tr>\n",
       "  </thead>\n",
       "  <tbody>\n",
       "    <tr>\n",
       "      <th>514</th>\n",
       "      <td>None</td>\n",
       "      <td>헥터</td>\n",
       "      <td>로하스</td>\n",
       "      <td>None</td>\n",
       "      <td>None</td>\n",
       "      <td>None</td>\n",
       "    </tr>\n",
       "    <tr>\n",
       "      <th>674</th>\n",
       "      <td>None</td>\n",
       "      <td>왕웨이중</td>\n",
       "      <td>가르시아</td>\n",
       "      <td>None</td>\n",
       "      <td>None</td>\n",
       "      <td>None</td>\n",
       "    </tr>\n",
       "    <tr>\n",
       "      <th>675</th>\n",
       "      <td>None</td>\n",
       "      <td>왕웨이중</td>\n",
       "      <td>김현수</td>\n",
       "      <td>None</td>\n",
       "      <td>None</td>\n",
       "      <td>None</td>\n",
       "    </tr>\n",
       "  </tbody>\n",
       "</table>\n",
       "</div>"
      ],
      "text/plain": [
       "    pitch_type pitcher batter speed    px    pz\n",
       "514       None      헥터    로하스  None  None  None\n",
       "674       None    왕웨이중   가르시아  None  None  None\n",
       "675       None    왕웨이중    김현수  None  None  None"
      ]
     },
     "metadata": {},
     "output_type": "display_data"
    }
   ],
   "source": [
    "# 쓰레기 값이 있는 데이터의 예시\n",
    "display(df.loc[df.pitch_type.isnull()].loc[:, ['pitch_type', 'pitcher', 'batter', 'speed', 'px', 'pz']][:3])\n",
    "display(df.loc[df.pitch_type == 'None'].loc[:, ['pitch_type', 'pitcher', 'batter', 'speed', 'px', 'pz']][:3])"
   ]
  },
  {
   "cell_type": "markdown",
   "metadata": {},
   "source": [
    "위 예시에서 보면 `pitch_type` 열에 `NaN`이나 'None' 같은 값이 있다. 철저히 배제해야 한다.\n",
    "\n",
    "방법은 다음과 같다."
   ]
  },
  {
   "cell_type": "code",
   "execution_count": 15,
   "metadata": {},
   "outputs": [],
   "source": [
    "# NaN 처리; 숫자로 된 key는 대부분 쓰레기값이 섞여있다.\n",
    "df.loc[:, 'speed'] = pd.to_numeric(df.speed, errors='coerce')\n",
    "df.loc[:, 'px'] = pd.to_numeric(df.px, errors='coerce')\n",
    "df.loc[:, 'pz'] = pd.to_numeric(df.pz, errors='coerce')\n",
    "df.loc[:, 'pfx_x'] = pd.to_numeric(df.pfx_x, errors='coerce')\n",
    "df.loc[:, 'pfx_z'] = pd.to_numeric(df.pfx_z, errors='coerce')\n",
    "df.loc[:, 'x0'] = pd.to_numeric(df.x0, errors='coerce')\n",
    "df.loc[:, 'z0'] = pd.to_numeric(df.z0, errors='coerce')\n",
    "\n",
    "# pitch_type이 'NaN'인 row는 drop한다.\n",
    "df = df.drop(df.loc[df.pitch_type.isnull()].index)\n",
    "\n",
    "# pitch_type이 'None'인 row는 drop한다.\n",
    "df = df.drop(df.loc[df.pitch_type == 'None'].index)"
   ]
  },
  {
   "cell_type": "markdown",
   "metadata": {},
   "source": [
    "이렇게 제거했는데도 쓰레기 값이 섞여있을 수 있다. 확인해보자."
   ]
  },
  {
   "cell_type": "code",
   "execution_count": 19,
   "metadata": {},
   "outputs": [
    {
     "data": {
      "text/plain": [
       "True"
      ]
     },
     "metadata": {},
     "output_type": "display_data"
    },
    {
     "name": "stdout",
     "output_type": "stream",
     "text": [
      "\n"
     ]
    },
    {
     "data": {
      "text/plain": [
       "pitch_type       False\n",
       "pitcher          False\n",
       "batter           False\n",
       "pitcher_ID       False\n",
       "batter_ID        False\n",
       "speed            False\n",
       "pitch_result     False\n",
       "pa_result        False\n",
       "balls            False\n",
       "strikes          False\n",
       "outs             False\n",
       "inning           False\n",
       "inning_topbot    False\n",
       "score_away       False\n",
       "score_home       False\n",
       "stands           False\n",
       "throws           False\n",
       "on_1b            False\n",
       "on_2b            False\n",
       "on_3b            False\n",
       "px               False\n",
       "pz               False\n",
       "pfx_x            False\n",
       "pfx_z            False\n",
       "x0               False\n",
       "z0               False\n",
       "sz_top           False\n",
       "sz_bot           False\n",
       "pos_1            False\n",
       "pos_2            False\n",
       "pos_3            False\n",
       "pos_4            False\n",
       "pos_5            False\n",
       "pos_6            False\n",
       "pos_7            False\n",
       "pos_8            False\n",
       "pos_9            False\n",
       "game_date        False\n",
       "home             False\n",
       "away             False\n",
       "stadium          False\n",
       "referee           True\n",
       "pa_number        False\n",
       "pitch_number     False\n",
       "dtype: bool"
      ]
     },
     "metadata": {},
     "output_type": "display_data"
    }
   ],
   "source": [
    "display(df.isnull().any().any())\n",
    "print()\n",
    "display(df.isnull().any())"
   ]
  },
  {
   "cell_type": "markdown",
   "metadata": {},
   "source": [
    "실행 결과 referee 열에 쓰레기값이 섞여있는 게 확인된다. referee 데이터가 분석에 필요하다면 제거해주는 것이 좋다.\n",
    "\n",
    "물론 데이터가 잘못 다운로드됐거나, 파싱이 잘못됐을 가능성도 있다.\n",
    "\n",
    "여기서는 referee 관련 분석을 진행하지 않을 것이므로, 일단 넘어가도록 한다."
   ]
  },
  {
   "cell_type": "markdown",
   "metadata": {},
   "source": [
    "# 투수 데이터 분석\n",
    "\n",
    "PBP 데이터에는 Pitch F/X 데이터가 들어있다. Pitch F/X 데이터는 투수 구속, 구종 이름, 무브먼트, 로케이션, 릴리즈 포인트 등을 포함한다.\n",
    "\n",
    "이 데이터를 활용하는 예 중 하나는 '투수 레퍼토리 분석'이다. 예시로 켈리의 구종별 구속, break(무브먼트) 등을 알아보자."
   ]
  },
  {
   "cell_type": "code",
   "execution_count": 24,
   "metadata": {},
   "outputs": [
    {
     "name": "stdout",
     "output_type": "stream",
     "text": [
      "켈리 데이터 개수 : 102개\n"
     ]
    },
    {
     "data": {
      "text/html": [
       "<div>\n",
       "<style scoped>\n",
       "    .dataframe tbody tr th:only-of-type {\n",
       "        vertical-align: middle;\n",
       "    }\n",
       "\n",
       "    .dataframe tbody tr th {\n",
       "        vertical-align: top;\n",
       "    }\n",
       "\n",
       "    .dataframe thead th {\n",
       "        text-align: right;\n",
       "    }\n",
       "</style>\n",
       "<table border=\"1\" class=\"dataframe\">\n",
       "  <thead>\n",
       "    <tr style=\"text-align: right;\">\n",
       "      <th></th>\n",
       "      <th>pitch_type</th>\n",
       "      <th>pitcher</th>\n",
       "      <th>batter</th>\n",
       "      <th>pitcher_ID</th>\n",
       "      <th>batter_ID</th>\n",
       "      <th>speed</th>\n",
       "      <th>pitch_result</th>\n",
       "      <th>pa_result</th>\n",
       "      <th>balls</th>\n",
       "      <th>strikes</th>\n",
       "      <th>...</th>\n",
       "      <th>pos_7</th>\n",
       "      <th>pos_8</th>\n",
       "      <th>pos_9</th>\n",
       "      <th>game_date</th>\n",
       "      <th>home</th>\n",
       "      <th>away</th>\n",
       "      <th>stadium</th>\n",
       "      <th>referee</th>\n",
       "      <th>pa_number</th>\n",
       "      <th>pitch_number</th>\n",
       "    </tr>\n",
       "  </thead>\n",
       "  <tbody>\n",
       "    <tr>\n",
       "      <th>894</th>\n",
       "      <td>직구</td>\n",
       "      <td>켈리</td>\n",
       "      <td>민병헌</td>\n",
       "      <td>65856</td>\n",
       "      <td>76249</td>\n",
       "      <td>148.0</td>\n",
       "      <td>스트라이크</td>\n",
       "      <td>None</td>\n",
       "      <td>0</td>\n",
       "      <td>0</td>\n",
       "      <td>...</td>\n",
       "      <td>정의윤</td>\n",
       "      <td>정진기</td>\n",
       "      <td>한동민</td>\n",
       "      <td>20180324</td>\n",
       "      <td>SK</td>\n",
       "      <td>LT</td>\n",
       "      <td>문학</td>\n",
       "      <td>박기택</td>\n",
       "      <td>1</td>\n",
       "      <td>1</td>\n",
       "    </tr>\n",
       "    <tr>\n",
       "      <th>895</th>\n",
       "      <td>직구</td>\n",
       "      <td>켈리</td>\n",
       "      <td>민병헌</td>\n",
       "      <td>65856</td>\n",
       "      <td>76249</td>\n",
       "      <td>147.0</td>\n",
       "      <td>볼</td>\n",
       "      <td>None</td>\n",
       "      <td>0</td>\n",
       "      <td>1</td>\n",
       "      <td>...</td>\n",
       "      <td>정의윤</td>\n",
       "      <td>정진기</td>\n",
       "      <td>한동민</td>\n",
       "      <td>20180324</td>\n",
       "      <td>SK</td>\n",
       "      <td>LT</td>\n",
       "      <td>문학</td>\n",
       "      <td>박기택</td>\n",
       "      <td>1</td>\n",
       "      <td>2</td>\n",
       "    </tr>\n",
       "    <tr>\n",
       "      <th>896</th>\n",
       "      <td>직구</td>\n",
       "      <td>켈리</td>\n",
       "      <td>민병헌</td>\n",
       "      <td>65856</td>\n",
       "      <td>76249</td>\n",
       "      <td>148.0</td>\n",
       "      <td>볼</td>\n",
       "      <td>None</td>\n",
       "      <td>1</td>\n",
       "      <td>1</td>\n",
       "      <td>...</td>\n",
       "      <td>정의윤</td>\n",
       "      <td>정진기</td>\n",
       "      <td>한동민</td>\n",
       "      <td>20180324</td>\n",
       "      <td>SK</td>\n",
       "      <td>LT</td>\n",
       "      <td>문학</td>\n",
       "      <td>박기택</td>\n",
       "      <td>1</td>\n",
       "      <td>3</td>\n",
       "    </tr>\n",
       "  </tbody>\n",
       "</table>\n",
       "<p>3 rows × 44 columns</p>\n",
       "</div>"
      ],
      "text/plain": [
       "    pitch_type pitcher batter  pitcher_ID  batter_ID  speed pitch_result  \\\n",
       "894         직구      켈리    민병헌       65856      76249  148.0        스트라이크   \n",
       "895         직구      켈리    민병헌       65856      76249  147.0            볼   \n",
       "896         직구      켈리    민병헌       65856      76249  148.0            볼   \n",
       "\n",
       "    pa_result  balls  strikes     ...       pos_7  pos_8 pos_9  game_date  \\\n",
       "894      None      0        0     ...         정의윤    정진기   한동민   20180324   \n",
       "895      None      0        1     ...         정의윤    정진기   한동민   20180324   \n",
       "896      None      1        1     ...         정의윤    정진기   한동민   20180324   \n",
       "\n",
       "     home away stadium referee pa_number pitch_number  \n",
       "894    SK   LT      문학     박기택         1            1  \n",
       "895    SK   LT      문학     박기택         1            2  \n",
       "896    SK   LT      문학     박기택         1            3  \n",
       "\n",
       "[3 rows x 44 columns]"
      ]
     },
     "metadata": {},
     "output_type": "display_data"
    }
   ],
   "source": [
    "# pitcher 이름이 '켈리'인 데이터만 읽어온다.\n",
    "sub_df = df.loc[df.pitcher == '켈리']\n",
    "\n",
    "print('켈리 데이터 개수 : {}개'.format(len(sub_df)))\n",
    "display(sub_df[:3])"
   ]
  },
  {
   "cell_type": "markdown",
   "metadata": {},
   "source": [
    "데이터를 읽어왔지만 102구나 되는 내용을 일일이 들여다보기에는 시간이 부족하다.\n",
    "\n",
    "구종 별로 묶어서 평균 구속, 최고 구속 등을 볼 수 있다면 시간이 절약될 것이다.\n",
    "\n",
    "이럴 때 활용할 수 있는 게 `pandas DataFrame`의 `groupby` 함수다."
   ]
  },
  {
   "cell_type": "code",
   "execution_count": 22,
   "metadata": {},
   "outputs": [
    {
     "data": {
      "text/html": [
       "<div>\n",
       "<style scoped>\n",
       "    .dataframe tbody tr th:only-of-type {\n",
       "        vertical-align: middle;\n",
       "    }\n",
       "\n",
       "    .dataframe tbody tr th {\n",
       "        vertical-align: top;\n",
       "    }\n",
       "\n",
       "    .dataframe thead th {\n",
       "        text-align: right;\n",
       "    }\n",
       "</style>\n",
       "<table border=\"1\" class=\"dataframe\">\n",
       "  <thead>\n",
       "    <tr style=\"text-align: right;\">\n",
       "      <th></th>\n",
       "      <th>speed</th>\n",
       "      <th>pfx_x</th>\n",
       "      <th>pfx_z</th>\n",
       "      <th>count</th>\n",
       "      <th>max</th>\n",
       "      <th>min</th>\n",
       "    </tr>\n",
       "    <tr>\n",
       "      <th>pitch_type</th>\n",
       "      <th></th>\n",
       "      <th></th>\n",
       "      <th></th>\n",
       "      <th></th>\n",
       "      <th></th>\n",
       "      <th></th>\n",
       "    </tr>\n",
       "  </thead>\n",
       "  <tbody>\n",
       "    <tr>\n",
       "      <th>슬라이더</th>\n",
       "      <td>135.0</td>\n",
       "      <td>2.8</td>\n",
       "      <td>2.5</td>\n",
       "      <td>7</td>\n",
       "      <td>136.0</td>\n",
       "      <td>133.0</td>\n",
       "    </tr>\n",
       "    <tr>\n",
       "      <th>직구</th>\n",
       "      <td>147.1</td>\n",
       "      <td>-5.5</td>\n",
       "      <td>9.4</td>\n",
       "      <td>32</td>\n",
       "      <td>150.0</td>\n",
       "      <td>144.0</td>\n",
       "    </tr>\n",
       "    <tr>\n",
       "      <th>체인지업</th>\n",
       "      <td>135.9</td>\n",
       "      <td>-8.4</td>\n",
       "      <td>7.2</td>\n",
       "      <td>16</td>\n",
       "      <td>140.0</td>\n",
       "      <td>131.0</td>\n",
       "    </tr>\n",
       "    <tr>\n",
       "      <th>커브</th>\n",
       "      <td>130.4</td>\n",
       "      <td>3.9</td>\n",
       "      <td>-2.8</td>\n",
       "      <td>23</td>\n",
       "      <td>136.0</td>\n",
       "      <td>125.0</td>\n",
       "    </tr>\n",
       "    <tr>\n",
       "      <th>커터</th>\n",
       "      <td>142.4</td>\n",
       "      <td>-5.0</td>\n",
       "      <td>7.9</td>\n",
       "      <td>12</td>\n",
       "      <td>146.0</td>\n",
       "      <td>138.0</td>\n",
       "    </tr>\n",
       "    <tr>\n",
       "      <th>투심</th>\n",
       "      <td>145.1</td>\n",
       "      <td>-7.7</td>\n",
       "      <td>8.7</td>\n",
       "      <td>12</td>\n",
       "      <td>149.0</td>\n",
       "      <td>137.0</td>\n",
       "    </tr>\n",
       "  </tbody>\n",
       "</table>\n",
       "</div>"
      ],
      "text/plain": [
       "            speed  pfx_x  pfx_z  count   max   min\n",
       "pitch_type                                        \n",
       "슬라이더        135.0    2.8    2.5      7 136.0 133.0\n",
       "직구          147.1   -5.5    9.4     32 150.0 144.0\n",
       "체인지업        135.9   -8.4    7.2     16 140.0 131.0\n",
       "커브          130.4    3.9   -2.8     23 136.0 125.0\n",
       "커터          142.4   -5.0    7.9     12 146.0 138.0\n",
       "투심          145.1   -7.7    8.7     12 149.0 137.0"
      ]
     },
     "metadata": {},
     "output_type": "display_data"
    }
   ],
   "source": [
    "# pitch_type으로 묶어서 각 열 데이터의 평균(mean)을 구하고, 그 중 speed, pfx_x, pfx_z만 가져온다.\n",
    "groupped = sub_df.groupby('pitch_type').mean().loc[:, ('speed', 'pfx_x', 'pfx_z')]\n",
    "\n",
    "# 구종별 개수가 없으니 추가한다. count()는 모든 열에 동일한 값(해당 group의 개수)이 들어가므로, 그 중 한 열만 긁어오는 것이 핵심이다. speed가 아니어도 된다.\n",
    "groupped['count'] = sub_df.groupby('pitch_type').count().speed\n",
    "\n",
    "# 비슷하게 speed의 max, min 값도 추가한다.\n",
    "groupped['max'] = sub_df.groupby('pitch_type').max().speed\n",
    "groupped['min'] = sub_df.groupby('pitch_type').min().speed\n",
    "\n",
    "# 확인해본다.\n",
    "display(groupped)"
   ]
  },
  {
   "cell_type": "markdown",
   "metadata": {},
   "source": [
    "원하던대로 구종별 구속, 브레이크 값 등을 정리했다. 포심(직구) 평균구속 147, 최고구속 150인 것을 보면 알려진 켈리의 데이터와 유사하다.\n",
    "\n",
    "또한 앞서 pitch_type 열에서 `NaN`, 'None' 같은 값을 제거했기 때문에 이상한 그룹이 나오지 않는다.\n",
    "\n",
    "제거하지 않았다면 슬라이더 위에 'None' 그룹이 표시되거나, 평균 계산이 제대로 되지 않았을 것이다."
   ]
  },
  {
   "cell_type": "code",
   "execution_count": null,
   "metadata": {},
   "outputs": [],
   "source": []
  },
  {
   "cell_type": "code",
   "execution_count": 54,
   "metadata": {},
   "outputs": [
    {
     "data": {
      "image/png": "[encoded data removed]",
      "text/plain": [
       "<matplotlib.figure.Figure at 0x10a287780>"
      ]
     },
     "metadata": {},
     "output_type": "display_data"
    }
   ],
   "source": [
    "\n",
    "\n",
    "Colors = {\n",
    "    '직구': '#3245ef',\n",
    "    '슬라이더': '#ef2926',\n",
    "    '체인지업':'#1a1b1c',\n",
    "    '커브':'#edf72c',\n",
    "    '포크':'#8348d1',\n",
    "    '투심':'#edf72c',\n",
    "    '커터':'#1a1b1c'\n",
    "}\n",
    "\n",
    "pt = sub_df.pitch_type.drop_duplicates()\n",
    "\n",
    "fig = plt.figure(figsize=(4, 4), dpi=80, facecolor='white')\n",
    "for p in pt:\n",
    "    plt.scatter(sub_df.loc[sub_df.pitch_type == p].x0, sub_df.loc[sub_df.pitch_type == p].z0, color=Colors[p], label=p)\n",
    "    \n",
    "plt.axis([1, 3, 6, 7])\n",
    "plt.legend(loc=9, bbox_to_anchor=(0.5, -0.1), ncol=2)\n",
    "plt.show()"
   ]
  },
  {
   "cell_type": "code",
   "execution_count": 68,
   "metadata": {
    "scrolled": false
   },
   "outputs": [
    {
     "data": {
      "image/png": "[encoded data removed]",
      "text/plain": [
       "<matplotlib.figure.Figure at 0x115449e48>"
      ]
     },
     "metadata": {},
     "output_type": "display_data"
    }
   ],
   "source": [
    "plot_match_calls(sub_df, title='{} (타자시점)'.format(p))"
   ]
  },
  {
   "cell_type": "code",
   "execution_count": 71,
   "metadata": {},
   "outputs": [
    {
     "data": {
      "image/png": "[encoded data removed]",
      "text/plain": [
       "<matplotlib.figure.Figure at 0x115d221d0>"
      ]
     },
     "metadata": {},
     "output_type": "display_data"
    }
   ],
   "source": [
    "plot_calls(sub_df, title='휠러갓갓', calls=['스트라이크', '볼', '헛스윙', '파울', '타격'], legends=True)"
   ]
  },
  {
   "cell_type": "code",
   "execution_count": 67,
   "metadata": {
    "scrolled": false
   },
   "outputs": [
    {
     "data": {
      "text/html": [
       "<div>\n",
       "<style scoped>\n",
       "    .dataframe tbody tr th:only-of-type {\n",
       "        vertical-align: middle;\n",
       "    }\n",
       "\n",
       "    .dataframe tbody tr th {\n",
       "        vertical-align: top;\n",
       "    }\n",
       "\n",
       "    .dataframe thead th {\n",
       "        text-align: right;\n",
       "    }\n",
       "</style>\n",
       "<table border=\"1\" class=\"dataframe\">\n",
       "  <thead>\n",
       "    <tr style=\"text-align: right;\">\n",
       "      <th></th>\n",
       "      <th>speed</th>\n",
       "      <th>pfx_x</th>\n",
       "      <th>pfx_z</th>\n",
       "      <th>count</th>\n",
       "      <th>max</th>\n",
       "      <th>min</th>\n",
       "    </tr>\n",
       "    <tr>\n",
       "      <th>pitch_type</th>\n",
       "      <th></th>\n",
       "      <th></th>\n",
       "      <th></th>\n",
       "      <th></th>\n",
       "      <th></th>\n",
       "      <th></th>\n",
       "    </tr>\n",
       "  </thead>\n",
       "  <tbody>\n",
       "    <tr>\n",
       "      <th>슬라이더</th>\n",
       "      <td>133.7</td>\n",
       "      <td>3.2</td>\n",
       "      <td>8.0</td>\n",
       "      <td>35</td>\n",
       "      <td>137.0</td>\n",
       "      <td>129.0</td>\n",
       "    </tr>\n",
       "    <tr>\n",
       "      <th>직구</th>\n",
       "      <td>141.4</td>\n",
       "      <td>9.3</td>\n",
       "      <td>13.2</td>\n",
       "      <td>47</td>\n",
       "      <td>145.0</td>\n",
       "      <td>138.0</td>\n",
       "    </tr>\n",
       "    <tr>\n",
       "      <th>체인지업</th>\n",
       "      <td>129.9</td>\n",
       "      <td>11.1</td>\n",
       "      <td>13.8</td>\n",
       "      <td>10</td>\n",
       "      <td>133.0</td>\n",
       "      <td>128.0</td>\n",
       "    </tr>\n",
       "    <tr>\n",
       "      <th>커브</th>\n",
       "      <td>126.0</td>\n",
       "      <td>0.3</td>\n",
       "      <td>4.5</td>\n",
       "      <td>2</td>\n",
       "      <td>127.0</td>\n",
       "      <td>125.0</td>\n",
       "    </tr>\n",
       "    <tr>\n",
       "      <th>투심</th>\n",
       "      <td>138.2</td>\n",
       "      <td>10.9</td>\n",
       "      <td>12.7</td>\n",
       "      <td>10</td>\n",
       "      <td>140.0</td>\n",
       "      <td>137.0</td>\n",
       "    </tr>\n",
       "  </tbody>\n",
       "</table>\n",
       "</div>"
      ],
      "text/plain": [
       "            speed  pfx_x  pfx_z  count   max   min\n",
       "pitch_type                                        \n",
       "슬라이더        133.7    3.2    8.0     35 137.0 129.0\n",
       "직구          141.4    9.3   13.2     47 145.0 138.0\n",
       "체인지업        129.9   11.1   13.8     10 133.0 128.0\n",
       "커브          126.0    0.3    4.5      2 127.0 125.0\n",
       "투심          138.2   10.9   12.7     10 140.0 137.0"
      ]
     },
     "metadata": {},
     "output_type": "display_data"
    }
   ],
   "source": [
    "p = '휠러'\n",
    "\n",
    "!python pbp.py -d 2018 3 > /dev/null\n",
    "!python pbp.py -c 2018 3 > /dev/null\n",
    "\n",
    "df = pd.read_csv('pbp_data/2018/2018.csv')\n",
    "\n",
    "\n",
    "df.loc[:, 'speed'] = pd.to_numeric(df.speed, errors='coerce')\n",
    "df.loc[:, 'px'] = pd.to_numeric(df.px, errors='coerce')\n",
    "df.loc[:, 'pz'] = pd.to_numeric(df.pz, errors='coerce')\n",
    "df.loc[:, 'pfx_x'] = pd.to_numeric(df.pfx_x, errors='coerce')\n",
    "df.loc[:, 'pfx_z'] = pd.to_numeric(df.pfx_z, errors='coerce')\n",
    "df.loc[:, 'x0'] = pd.to_numeric(df.x0, errors='coerce')\n",
    "df.loc[:, 'z0'] = pd.to_numeric(df.z0, errors='coerce')\n",
    "\n",
    "sub_df = df.loc[df.pitcher == p]\n",
    "\n",
    "sub_df = sub_df.drop(sub_df.loc[sub_df.px.isnull()].index)\n",
    "sub_df = sub_df.drop(sub_df.loc[sub_df.pitch_type.isnull()].index)\n",
    "sub_df = sub_df.drop(sub_df.loc[sub_df.pitch_type == 'None'].index)\n",
    "dsf = sub_df.groupby('pitch_type').mean().loc[:, ('speed', 'pfx_x', 'pfx_z')]\n",
    "dsf['count'] = sub_df.groupby('pitch_type').count().speed\n",
    "dsf['max'] = sub_df.groupby('pitch_type').max().speed\n",
    "dsf['min'] = sub_df.groupby('pitch_type').min().speed\n",
    "\n",
    "display(dsf)\n",
    "#display(sub_df.loc[:, ('pitcher', 'batter', 'pitch_type', 'pitch_result', 'pa_result', 'speed', 'pfx_x', 'pfx_z', 'balls', 'strikes', 'outs', 'inning', 'inning_topbot')])"
   ]
  },
  {
   "cell_type": "code",
   "execution_count": 15,
   "metadata": {},
   "outputs": [],
   "source": [
    "df = pd.read_csv('pbp_data/2017/2017.csv')\n",
    "#pitchers = df.pitcher.drop_duplicates()\n",
    "#pitch_types = df.pitch_type.drop_duplicates()\n",
    "\n",
    "# string으로 된 숫자를 float, int등 numeric으로 바꾼다.\n",
    "df.loc[:, 'px'] = pd.to_numeric(df.px, errors='coerce')\n",
    "df.loc[:, 'pz'] = pd.to_numeric(df.pz, errors='coerce')\n",
    "df.loc[:, 'pfx_x'] = pd.to_numeric(df.pfx_x, errors='coerce')\n",
    "df.loc[:, 'pfx_z'] = pd.to_numeric(df.pfx_z, errors='coerce')\n",
    "df.loc[:, 'sz_top'] = pd.to_numeric(df.sz_top, errors='coerce')\n",
    "df.loc[:, 'sz_bot'] = pd.to_numeric(df.sz_bot, errors='coerce')"
   ]
  },
  {
   "cell_type": "code",
   "execution_count": 16,
   "metadata": {},
   "outputs": [],
   "source": [
    "# pitch type 분석이 필요한 경우, pitch_type이 NaN 또는 None으로 된 row를 drop한다.\n",
    "df = df.drop(df.loc[(df.pitch_type.isnull()) | (df.pitch_type == 'None')].index)"
   ]
  },
  {
   "cell_type": "code",
   "execution_count": 17,
   "metadata": {},
   "outputs": [],
   "source": [
    "# 헛스윙/스윙/파울 분석이 필요한 경우, pitch_result의 번트파울과 번트헛스윙을 파울과 헛스윙으로 바꾼다.\n",
    "df.pitch_result = df.pitch_result.replace('번트헛스윙', '헛스윙')\n",
    "df.pitch_result = df.pitch_result.replace('번트파울', '파울')"
   ]
  },
  {
   "cell_type": "code",
   "execution_count": 8,
   "metadata": {},
   "outputs": [],
   "source": [
    "ll = -17/24  # leftLine\n",
    "rl = +17/24  # rightLine\n",
    "oll = -17/24-1/8  # outerLeftLine\n",
    "orl = +17/24+1/8  # outerRightLine\n",
    "\n",
    "tl = +3.325  # topLine\n",
    "bl = +1.579  # bototmLine\n",
    "otl = +3.325+1/8  # outerTopLine\n",
    "obl = +1.579-1/8  # outerBottomLine"
   ]
  },
  {
   "cell_type": "code",
   "execution_count": 28,
   "metadata": {},
   "outputs": [
    {
     "name": "stdout",
     "output_type": "stream",
     "text": [
      "0.8444314507807663 0.8273502843760455\n"
     ]
    }
   ],
   "source": [
    "iz = df.loc[(df.px <= orl) & (df.px >= oll) & (df.pz >= df.sz_bot-1/8) & (df.pz <= df.sz_top+1/8)]\n",
    "oz = df.loc[(df.px > orl) | (df.px < oll) | (df.pz < df.sz_bot-1/8) & (df.pz > df.sz_top+1/8)]\n",
    "iz_s = iz.loc[iz.pitch_result == '스트라이크']\n",
    "iz_b = iz.loc[iz.pitch_result == '볼']\n",
    "oz_s = oz.loc[oz.pitch_result == '스트라이크']\n",
    "oz_b = oz.loc[oz.pitch_result == '볼']\n",
    "iz_acc = len(iz_s) / (len(iz_s) + len(iz_b))\n",
    "oz_acc = len(oz_b) / (len(oz_s) + len(oz_b))\n",
    "\n",
    "print(iz_acc, oz_acc)"
   ]
  },
  {
   "cell_type": "code",
   "execution_count": 30,
   "metadata": {},
   "outputs": [
    {
     "name": "stdout",
     "output_type": "stream",
     "text": [
      "0.9060289502037757 0.7881377156410672\n"
     ]
    }
   ],
   "source": [
    "iz = df.loc[(df.px <= rl) & (df.px >= ll) & (df.pz >= df.sz_bot) & (df.pz <= df.sz_top)]\n",
    "oz = df.loc[(df.px > rl) | (df.px < ll) | (df.pz < df.sz_bot) & (df.pz > df.sz_top)]\n",
    "iz_s = iz.loc[iz.pitch_result == '스트라이크']\n",
    "iz_b = iz.loc[iz.pitch_result == '볼']\n",
    "oz_s = oz.loc[oz.pitch_result == '스트라이크']\n",
    "oz_b = oz.loc[oz.pitch_result == '볼']\n",
    "iz_acc = len(iz_s) / (len(iz_s) + len(iz_b))\n",
    "oz_acc = len(oz_b) / (len(oz_s) + len(oz_b))\n",
    "\n",
    "print(iz_acc, oz_acc)"
   ]
  },
  {
   "cell_type": "code",
   "execution_count": 29,
   "metadata": {},
   "outputs": [
    {
     "name": "stdout",
     "output_type": "stream",
     "text": [
      "0.8934426229508197 0.708498023715415\n"
     ]
    }
   ],
   "source": [
    "yhk = df.loc[df.pitcher == '유희관']\n",
    "\n",
    "iz = yhk.loc[(yhk.px <= orl) & (yhk.px >= oll) & (yhk.pz >= yhk.sz_bot-1/8) & (yhk.pz <= yhk.sz_top+1/8)]\n",
    "oz = yhk.loc[(yhk.px > orl) | (yhk.px < oll) | (yhk.pz < yhk.sz_bot-1/8) & (yhk.pz > yhk.sz_top+1/8)]\n",
    "iz_s = iz.loc[iz.pitch_result == '스트라이크']\n",
    "iz_b = iz.loc[iz.pitch_result == '볼']\n",
    "oz_s = oz.loc[oz.pitch_result == '스트라이크']\n",
    "oz_b = oz.loc[oz.pitch_result == '볼']\n",
    "iz_acc = len(iz_s) / (len(iz_s) + len(iz_b))\n",
    "oz_acc = len(oz_b) / (len(oz_s) + len(oz_b))\n",
    "\n",
    "print(iz_acc, oz_acc)"
   ]
  },
  {
   "cell_type": "code",
   "execution_count": 31,
   "metadata": {},
   "outputs": [
    {
     "name": "stdout",
     "output_type": "stream",
     "text": [
      "0.9294117647058824 0.6773913043478261\n"
     ]
    }
   ],
   "source": [
    "yhk = df.loc[df.pitcher == '유희관']\n",
    "\n",
    "iz = yhk.loc[(yhk.px <= rl) & (yhk.px >= ll) & (yhk.pz >= yhk.sz_bot) & (yhk.pz <= yhk.sz_top)]\n",
    "oz = yhk.loc[(yhk.px > rl) | (yhk.px < ll) | (yhk.pz < yhk.sz_bot) & (yhk.pz > yhk.sz_top)]\n",
    "iz_s = iz.loc[iz.pitch_result == '스트라이크']\n",
    "iz_b = iz.loc[iz.pitch_result == '볼']\n",
    "oz_s = oz.loc[oz.pitch_result == '스트라이크']\n",
    "oz_b = oz.loc[oz.pitch_result == '볼']\n",
    "iz_acc = len(iz_s) / (len(iz_s) + len(iz_b))\n",
    "oz_acc = len(oz_b) / (len(oz_s) + len(oz_b))\n",
    "\n",
    "print(iz_acc, oz_acc)"
   ]
  },
  {
   "cell_type": "code",
   "execution_count": 45,
   "metadata": {},
   "outputs": [
    {
     "name": "stdout",
     "output_type": "stream",
     "text": [
      "0.8592814371257484 0.8038095238095239\n"
     ]
    }
   ],
   "source": [
    "yhk = df.loc[df.pitcher == '피어밴드']\n",
    "\n",
    "iz = yhk.loc[(yhk.px <= orl) & (yhk.px >= oll) & (yhk.pz >= yhk.sz_bot-1/8) & (yhk.pz <= yhk.sz_top+1/8)]\n",
    "oz = yhk.loc[(yhk.px > orl) | (yhk.px < oll) | (yhk.pz < yhk.sz_bot-1/8) & (yhk.pz > yhk.sz_top+1/8)]\n",
    "iz_s = iz.loc[iz.pitch_result == '스트라이크']\n",
    "iz_b = iz.loc[iz.pitch_result == '볼']\n",
    "oz_s = oz.loc[oz.pitch_result == '스트라이크']\n",
    "oz_b = oz.loc[oz.pitch_result == '볼']\n",
    "iz_acc = len(iz_s) / (len(iz_s) + len(iz_b))\n",
    "oz_acc = len(oz_b) / (len(oz_s) + len(oz_b))\n",
    "\n",
    "print(iz_acc, oz_acc)"
   ]
  },
  {
   "cell_type": "code",
   "execution_count": 45,
   "metadata": {},
   "outputs": [
    {
     "name": "stdout",
     "output_type": "stream",
     "text": [
      "0.8592814371257484 0.8038095238095239\n"
     ]
    }
   ],
   "source": [
    "yhk = df.loc[df.pitcher == '피어밴드']\n",
    "\n",
    "iz = yhk.loc[(yhk.px <= orl) & (yhk.px >= oll) & (yhk.pz >= yhk.sz_bot-1/8) & (yhk.pz <= yhk.sz_top+1/8)]\n",
    "oz = yhk.loc[(yhk.px > orl) | (yhk.px < oll) | (yhk.pz < yhk.sz_bot-1/8) & (yhk.pz > yhk.sz_top+1/8)]\n",
    "iz_s = iz.loc[iz.pitch_result == '스트라이크']\n",
    "iz_b = iz.loc[iz.pitch_result == '볼']\n",
    "oz_s = oz.loc[oz.pitch_result == '스트라이크']\n",
    "oz_b = oz.loc[oz.pitch_result == '볼']\n",
    "iz_acc = len(iz_s) / (len(iz_s) + len(iz_b))\n",
    "oz_acc = len(oz_b) / (len(oz_s) + len(oz_b))\n",
    "\n",
    "print(iz_acc, oz_acc)"
   ]
  },
  {
   "cell_type": "code",
   "execution_count": 47,
   "metadata": {},
   "outputs": [
    {
     "name": "stdout",
     "output_type": "stream",
     "text": [
      "['니퍼트', '비야누에바', '페트릭', '헥터', '백정현', '임기영', '켈리', '로치', '고영표', '밴헤켄', '소사', '맨쉽', '레일리', '유희관', '오간도', '윤규진', '윤희상', '류제국', '한현희', '이재학', '김원중', '장현식', '윤성환', '문승원', '피어밴드', '신재영', '구창모', '박진형', '송승준', '배영수', '장원준', '정성곤', '양현종', '박종훈', '차우찬', '박세웅', '최원태', '해커', '함덕주', '우규민', '팻딘', '임찬규', '다이아몬드', '보우덴', '허프', '브리검']\n"
     ]
    }
   ],
   "source": [
    "pitchers = df.pitcher.drop_duplicates()\n",
    "\n",
    "_1500 = []\n",
    "for pitcher in pitchers:\n",
    "    if len(df.loc[df.pitcher == pitcher]) > 1500:\n",
    "        _1500.append(pitcher)\n",
    "        \n",
    "print(_1500)"
   ]
  },
  {
   "cell_type": "code",
   "execution_count": 54,
   "metadata": {},
   "outputs": [],
   "source": [
    "_list = []\n",
    "\n",
    "for p in _1500:\n",
    "    yhk = df.loc[df.pitcher == p]\n",
    "\n",
    "    iz = yhk.loc[(yhk.px <= orl) & (yhk.px >= oll) & (yhk.pz >= yhk.sz_bot-1/8) & (yhk.pz <= yhk.sz_top+1/8)]\n",
    "    oz = yhk.loc[(yhk.px > orl) | (yhk.px < oll) | (yhk.pz < yhk.sz_bot-1/8) & (yhk.pz > yhk.sz_top+1/8)]\n",
    "    iz_s = iz.loc[iz.pitch_result == '스트라이크']\n",
    "    iz_b = iz.loc[iz.pitch_result == '볼']\n",
    "    oz_s = oz.loc[oz.pitch_result == '스트라이크']\n",
    "    oz_b = oz.loc[oz.pitch_result == '볼']\n",
    "    iz_acc = len(iz_s) / (len(iz_s) + len(iz_b))\n",
    "    oz_acc = len(oz_b) / (len(oz_s) + len(oz_b))\n",
    "\n",
    "    _list.append( (p, iz_acc, oz_acc) )"
   ]
  },
  {
   "cell_type": "code",
   "execution_count": 55,
   "metadata": {},
   "outputs": [
    {
     "data": {
      "text/plain": [
       "[('니퍼트', 0.8545918367346939, 0.8283038501560874),\n",
       " ('비야누에바', 0.8419117647058824, 0.8008752735229759),\n",
       " ('페트릭', 0.8923076923076924, 0.7902813299232737),\n",
       " ('헥터', 0.8513513513513513, 0.7925840092699884),\n",
       " ('백정현', 0.8793969849246231, 0.805045871559633),\n",
       " ('임기영', 0.8693877551020408, 0.829443447037702),\n",
       " ('켈리', 0.8498583569405099, 0.827020202020202),\n",
       " ('로치', 0.814621409921671, 0.8582554517133957),\n",
       " ('고영표', 0.8664383561643836, 0.8154859967051071),\n",
       " ('밴헤켄', 0.8284182305630027, 0.8225255972696246),\n",
       " ('소사', 0.8137755102040817, 0.8169440242057489),\n",
       " ('맨쉽', 0.8893280632411067, 0.7820738137082601),\n",
       " ('레일리', 0.8436123348017621, 0.8615384615384616),\n",
       " ('유희관', 0.8934426229508197, 0.708498023715415),\n",
       " ('오간도', 0.8893617021276595, 0.8346153846153846),\n",
       " ('윤규진', 0.8280701754385965, 0.8008213552361396),\n",
       " ('윤희상', 0.8643410852713178, 0.8061420345489443),\n",
       " ('류제국', 0.830028328611898, 0.8342618384401114),\n",
       " ('한현희', 0.8644859813084113, 0.8449905482041588),\n",
       " ('이재학', 0.8444444444444444, 0.8346153846153846),\n",
       " ('김원중', 0.8401486988847584, 0.8339285714285715),\n",
       " ('장현식', 0.8440366972477065, 0.8508634222919937),\n",
       " ('윤성환', 0.8937728937728938, 0.7764423076923077),\n",
       " ('문승원', 0.8461538461538461, 0.8457300275482094),\n",
       " ('피어밴드', 0.8592814371257484, 0.8038095238095239),\n",
       " ('신재영', 0.9090909090909091, 0.8434504792332268),\n",
       " ('구창모', 0.8580060422960725, 0.7871621621621622),\n",
       " ('박진형', 0.8130434782608695, 0.7887323943661971),\n",
       " ('송승준', 0.8740740740740741, 0.8371647509578544),\n",
       " ('배영수', 0.8951612903225806, 0.7983333333333333),\n",
       " ('장원준', 0.8716577540106952, 0.8178844056706652),\n",
       " ('정성곤', 0.8015873015873016, 0.820040899795501),\n",
       " ('양현종', 0.8345323741007195, 0.8128342245989305),\n",
       " ('박종훈', 0.8383620689655172, 0.8759213759213759),\n",
       " ('차우찬', 0.8835164835164835, 0.8207547169811321),\n",
       " ('박세웅', 0.8540540540540541, 0.843065693430657),\n",
       " ('최원태', 0.8269720101781171, 0.8154761904761905),\n",
       " ('해커', 0.8419540229885057, 0.8411497730711044),\n",
       " ('함덕주', 0.8470254957507082, 0.7953890489913544),\n",
       " ('우규민', 0.8497854077253219, 0.8141993957703928),\n",
       " ('팻딘', 0.812987012987013, 0.8100929614873837),\n",
       " ('임찬규', 0.8846153846153846, 0.7971473851030111),\n",
       " ('다이아몬드', 0.8285714285714286, 0.8384030418250951),\n",
       " ('보우덴', 0.8218623481781376, 0.8487654320987654),\n",
       " ('허프', 0.9061032863849765, 0.7417322834645669),\n",
       " ('브리검', 0.8575268817204301, 0.8933092224231465)]"
      ]
     },
     "execution_count": 55,
     "metadata": {},
     "output_type": "execute_result"
    }
   ],
   "source": [
    "_list"
   ]
  },
  {
   "cell_type": "code",
   "execution_count": 39,
   "metadata": {},
   "outputs": [
    {
     "name": "stdout",
     "output_type": "stream",
     "text": [
      "0.9247311827956989 0.7888989990900819\n"
     ]
    }
   ],
   "source": [
    "yhk = df.loc[df.pitcher == '니퍼트']\n",
    "\n",
    "iz = yhk.loc[(yhk.px <= rl) & (yhk.px >= ll) & (yhk.pz >= yhk.sz_bot) & (yhk.pz <= yhk.sz_top)]\n",
    "oz = yhk.loc[(yhk.px > rl) | (yhk.px < ll) | (yhk.pz < yhk.sz_bot) & (yhk.pz > yhk.sz_top)]\n",
    "iz_s = iz.loc[iz.pitch_result == '스트라이크']\n",
    "iz_b = iz.loc[iz.pitch_result == '볼']\n",
    "oz_s = oz.loc[oz.pitch_result == '스트라이크']\n",
    "oz_b = oz.loc[oz.pitch_result == '볼']\n",
    "iz_acc = len(iz_s) / (len(iz_s) + len(iz_b))\n",
    "oz_acc = len(oz_b) / (len(oz_s) + len(oz_b))\n",
    "\n",
    "print(iz_acc, oz_acc)"
   ]
  },
  {
   "cell_type": "code",
   "execution_count": 281,
   "metadata": {},
   "outputs": [
    {
     "name": "stdout",
     "output_type": "stream",
     "text": [
      "상단 헛스윙% : 10.9%\n",
      "중단 헛스윙% : 7.1%\n",
      "하단 헛스윙% : 4.4%\n"
     ]
    }
   ],
   "source": [
    "# 스트존 상/중/하 swstr% 구하기; swstr% = 헛스윙/전체 pitch(구종별)\n",
    "sub_df = pd.DataFrame({'pitch_type': df.pitch_type, 'pitch_result': df.pitch_result, 'px': df.px, 'pz': df.pz, 'swstr%': 1})\n",
    "\n",
    "ll = -17/24  # leftLine\n",
    "rl = +17/24  # rightLine\n",
    "oll = -17/24-1/8  # outerLeftLine\n",
    "orl = +17/24+1/8  # outerRightLine\n",
    "\n",
    "tl = +3.325  # topLine\n",
    "bl = +1.579  # bototmLine\n",
    "otl = +3.325+1/8  # outerTopLine\n",
    "obl = +1.579-1/8  # outerBottomLine\n",
    "\n",
    "top_range = [ (tl*2 + bl*1)/3, otl ]\n",
    "mid_range = [ (tl*1 + bl*2)/3, (tl*2 + bl*1)/3 ]\n",
    "bot_range = [ obl, (tl*1 + bl*2)/3 ]\n",
    "\n",
    "# 존 경계선(공 반개 포함) 안에 있는 공만 남긴다.\n",
    "sub_df = sub_df.drop( sub_df.loc[(sub_df.px > orl) | (sub_df.px < oll)].index )\n",
    "sub_df = sub_df.drop( sub_df.loc[(sub_df.pz > otl) | (sub_df.pz < obl)].index )\n",
    "\n",
    "# 직구만 남긴다.\n",
    "sub_df = sub_df.drop( sub_df.loc[sub_df.pitch_type != '직구'].index )\n",
    "\n",
    "ranges = [[top_range, '상단'], [mid_range, '중단'], [bot_range, '하단']]\n",
    "PRINT_FORMAT = '{0} 헛스윙% : {1:.1f}%'\n",
    "\n",
    "for r, name in ranges:\n",
    "    sub_df2 = sub_df.loc[(sub_df.pz <= r[-1]) & (sub_df.pz >= r[0])]\n",
    "    balls = pd.DataFrame({'pitch_result': sub_df2.pitch_result, 'raw_num': sub_df2['swstr%']})\n",
    "    result = balls.groupby('pitch_result').sum().apply(lambda x: 100*x/x.sum())\n",
    "    \n",
    "    print(PRINT_FORMAT.format(name, result.loc['헛스윙'].raw_num))\n",
    "\n"
   ]
  },
  {
   "cell_type": "code",
   "execution_count": 6,
   "metadata": {},
   "outputs": [
    {
     "name": "stdout",
     "output_type": "stream",
     "text": [
      "92486 8753 9.5\n"
     ]
    }
   ],
   "source": [
    "# 스트존 상단 +-2인치 투구 비율 구하기\n",
    "sub_df = pd.DataFrame({'px': df.px, 'pz': df.pz, 'raw_num': 1})\n",
    "\n",
    "ll = -17/24  # leftLine\n",
    "rl = +17/24  # rightLine\n",
    "oll = -17/24-1/8  # outerLeftLine\n",
    "orl = +17/24+1/8  # outerRightLine\n",
    "\n",
    "tl = +3.325  # topLine\n",
    "bl = +1.579  # bototmLine\n",
    "otl = +3.325+1/8  # outerTopLine\n",
    "obl = +1.579-1/8  # outerBottomLine\n",
    "\n",
    "# 존 경계선(공 반개 포함) 안에 있는 공만 남긴다.\n",
    "sub_df = sub_df.drop( sub_df.loc[(sub_df.px > orl) | (sub_df.px < oll)].index )\n",
    "sub_df = sub_df.drop( sub_df.loc[(sub_df.pz > otl) | (sub_df.pz < obl)].index )\n",
    "\n",
    "# 상단 +-2인치 안의 공 비율만 계산.\n",
    "total = len(sub_df)\n",
    "\n",
    "interest = len(sub_df.loc[(sub_df.pz <= tl + 2/12) & (sub_df.pz >= tl - 2/12)])\n",
    "\n",
    "print(total, interest, round(interest/total*100, 1))"
   ]
  },
  {
   "cell_type": "code",
   "execution_count": 8,
   "metadata": {},
   "outputs": [
    {
     "name": "stdout",
     "output_type": "stream",
     "text": [
      "154677 4950 3.2\n"
     ]
    }
   ],
   "source": [
    "df16 = pd.read_csv('pbp_data/2016/2016.csv')\n",
    "#pitchers = df.pitcher.drop_duplicates()\n",
    "#pitch_types = df.pitch_type.drop_duplicates()\n",
    "\n",
    "# string으로 된 숫자를 float, int등 numeric으로 바꾼다.\n",
    "df16.loc[:, 'px'] = pd.to_numeric(df16.px, errors='coerce')\n",
    "df16.loc[:, 'pz'] = pd.to_numeric(df16.pz, errors='coerce')\n",
    "df16.loc[:, 'pfx_x'] = pd.to_numeric(df16.pfx_x, errors='coerce')\n",
    "df16.loc[:, 'pfx_z'] = pd.to_numeric(df16.pfx_z, errors='coerce')\n",
    "\n",
    "# 스트존 상단 +-2인치 투구 비율 구하기\n",
    "sub_df = pd.DataFrame({'px': df16.px, 'pz': df16.pz, 'raw_num': 1})\n",
    "\n",
    "ll = -17/24  # leftLine\n",
    "rl = +17/24  # rightLine\n",
    "oll = -17/24-1/8  # outerLeftLine\n",
    "orl = +17/24+1/8  # outerRightLine\n",
    "\n",
    "tl = +3.325  # topLine\n",
    "bl = +1.579  # bototmLine\n",
    "otl = +3.325+1/8  # outerTopLine\n",
    "obl = +1.579-1/8  # outerBottomLine\n",
    "\n",
    "# 존 경계선(공 반개 포함) 안에 있는 공만 남긴다.\n",
    "sub_df = sub_df.drop( sub_df.loc[(sub_df.px > orl) | (sub_df.px < oll)].index )\n",
    "sub_df = sub_df.drop( sub_df.loc[(sub_df.pz > otl) | (sub_df.pz < obl)].index )\n",
    "\n",
    "# 상단 +-2인치 안의 공 비율만 계산.\n",
    "total = len(sub_df)\n",
    "\n",
    "interest = len(sub_df.loc[(sub_df.pz <= tl + 2/12) & (sub_df.pz >= tl - 2/12)])\n",
    "\n",
    "print(total, interest, round(interest/total*100, 1))"
   ]
  },
  {
   "cell_type": "code",
   "execution_count": 197,
   "metadata": {},
   "outputs": [
    {
     "name": "stdout",
     "output_type": "stream",
     "text": [
      "직구\n"
     ]
    },
    {
     "data": {
      "text/html": [
       "<div>\n",
       "<style scoped>\n",
       "    .dataframe tbody tr th:only-of-type {\n",
       "        vertical-align: middle;\n",
       "    }\n",
       "\n",
       "    .dataframe tbody tr th {\n",
       "        vertical-align: top;\n",
       "    }\n",
       "\n",
       "    .dataframe thead th {\n",
       "        text-align: right;\n",
       "    }\n",
       "</style>\n",
       "<table border=\"1\" class=\"dataframe\">\n",
       "  <thead>\n",
       "    <tr style=\"text-align: right;\">\n",
       "      <th></th>\n",
       "      <th></th>\n",
       "      <th>swstr%</th>\n",
       "      <th>raw_num</th>\n",
       "    </tr>\n",
       "    <tr>\n",
       "      <th>pitcher</th>\n",
       "      <th>pitch_result</th>\n",
       "      <th></th>\n",
       "      <th></th>\n",
       "    </tr>\n",
       "  </thead>\n",
       "  <tbody>\n",
       "    <tr>\n",
       "      <th>정우람</th>\n",
       "      <th>헛스윙</th>\n",
       "      <td>15.3</td>\n",
       "      <td>97</td>\n",
       "    </tr>\n",
       "    <tr>\n",
       "      <th>신재웅</th>\n",
       "      <th>헛스윙</th>\n",
       "      <td>12.5</td>\n",
       "      <td>42</td>\n",
       "    </tr>\n",
       "    <tr>\n",
       "      <th>임창용</th>\n",
       "      <th>헛스윙</th>\n",
       "      <td>12.3</td>\n",
       "      <td>58</td>\n",
       "    </tr>\n",
       "  </tbody>\n",
       "</table>\n",
       "</div>"
      ],
      "text/plain": [
       "                      swstr%  raw_num\n",
       "pitcher pitch_result                 \n",
       "정우람     헛스윙             15.3       97\n",
       "신재웅     헛스윙             12.5       42\n",
       "임창용     헛스윙             12.3       58"
      ]
     },
     "metadata": {},
     "output_type": "display_data"
    },
    {
     "name": "stdout",
     "output_type": "stream",
     "text": [
      "슬라이더\n"
     ]
    },
    {
     "data": {
      "text/html": [
       "<div>\n",
       "<style scoped>\n",
       "    .dataframe tbody tr th:only-of-type {\n",
       "        vertical-align: middle;\n",
       "    }\n",
       "\n",
       "    .dataframe tbody tr th {\n",
       "        vertical-align: top;\n",
       "    }\n",
       "\n",
       "    .dataframe thead th {\n",
       "        text-align: right;\n",
       "    }\n",
       "</style>\n",
       "<table border=\"1\" class=\"dataframe\">\n",
       "  <thead>\n",
       "    <tr style=\"text-align: right;\">\n",
       "      <th></th>\n",
       "      <th></th>\n",
       "      <th>swstr%</th>\n",
       "      <th>raw_num</th>\n",
       "    </tr>\n",
       "    <tr>\n",
       "      <th>pitcher</th>\n",
       "      <th>pitch_result</th>\n",
       "      <th></th>\n",
       "      <th></th>\n",
       "    </tr>\n",
       "  </thead>\n",
       "  <tbody>\n",
       "    <tr>\n",
       "      <th>심창민</th>\n",
       "      <th>헛스윙</th>\n",
       "      <td>22.9</td>\n",
       "      <td>59</td>\n",
       "    </tr>\n",
       "    <tr>\n",
       "      <th>장시환</th>\n",
       "      <th>헛스윙</th>\n",
       "      <td>22.7</td>\n",
       "      <td>58</td>\n",
       "    </tr>\n",
       "    <tr>\n",
       "      <th>윤길현</th>\n",
       "      <th>헛스윙</th>\n",
       "      <td>19.8</td>\n",
       "      <td>52</td>\n",
       "    </tr>\n",
       "  </tbody>\n",
       "</table>\n",
       "</div>"
      ],
      "text/plain": [
       "                      swstr%  raw_num\n",
       "pitcher pitch_result                 \n",
       "심창민     헛스윙             22.9       59\n",
       "장시환     헛스윙             22.7       58\n",
       "윤길현     헛스윙             19.8       52"
      ]
     },
     "metadata": {},
     "output_type": "display_data"
    },
    {
     "name": "stdout",
     "output_type": "stream",
     "text": [
      "커브\n"
     ]
    },
    {
     "data": {
      "text/html": [
       "<div>\n",
       "<style scoped>\n",
       "    .dataframe tbody tr th:only-of-type {\n",
       "        vertical-align: middle;\n",
       "    }\n",
       "\n",
       "    .dataframe tbody tr th {\n",
       "        vertical-align: top;\n",
       "    }\n",
       "\n",
       "    .dataframe thead th {\n",
       "        text-align: right;\n",
       "    }\n",
       "</style>\n",
       "<table border=\"1\" class=\"dataframe\">\n",
       "  <thead>\n",
       "    <tr style=\"text-align: right;\">\n",
       "      <th></th>\n",
       "      <th></th>\n",
       "      <th>swstr%</th>\n",
       "      <th>raw_num</th>\n",
       "    </tr>\n",
       "    <tr>\n",
       "      <th>pitcher</th>\n",
       "      <th>pitch_result</th>\n",
       "      <th></th>\n",
       "      <th></th>\n",
       "    </tr>\n",
       "  </thead>\n",
       "  <tbody>\n",
       "    <tr>\n",
       "      <th>해커</th>\n",
       "      <th>헛스윙</th>\n",
       "      <td>20.0</td>\n",
       "      <td>51</td>\n",
       "    </tr>\n",
       "    <tr>\n",
       "      <th>배장호</th>\n",
       "      <th>헛스윙</th>\n",
       "      <td>15.0</td>\n",
       "      <td>69</td>\n",
       "    </tr>\n",
       "    <tr>\n",
       "      <th>헥터</th>\n",
       "      <th>헛스윙</th>\n",
       "      <td>13.5</td>\n",
       "      <td>49</td>\n",
       "    </tr>\n",
       "  </tbody>\n",
       "</table>\n",
       "</div>"
      ],
      "text/plain": [
       "                      swstr%  raw_num\n",
       "pitcher pitch_result                 \n",
       "해커      헛스윙             20.0       51\n",
       "배장호     헛스윙             15.0       69\n",
       "헥터      헛스윙             13.5       49"
      ]
     },
     "metadata": {},
     "output_type": "display_data"
    },
    {
     "name": "stdout",
     "output_type": "stream",
     "text": [
      "체인지업\n"
     ]
    },
    {
     "data": {
      "text/html": [
       "<div>\n",
       "<style scoped>\n",
       "    .dataframe tbody tr th:only-of-type {\n",
       "        vertical-align: middle;\n",
       "    }\n",
       "\n",
       "    .dataframe tbody tr th {\n",
       "        vertical-align: top;\n",
       "    }\n",
       "\n",
       "    .dataframe thead th {\n",
       "        text-align: right;\n",
       "    }\n",
       "</style>\n",
       "<table border=\"1\" class=\"dataframe\">\n",
       "  <thead>\n",
       "    <tr style=\"text-align: right;\">\n",
       "      <th></th>\n",
       "      <th></th>\n",
       "      <th>swstr%</th>\n",
       "      <th>raw_num</th>\n",
       "    </tr>\n",
       "    <tr>\n",
       "      <th>pitcher</th>\n",
       "      <th>pitch_result</th>\n",
       "      <th></th>\n",
       "      <th></th>\n",
       "    </tr>\n",
       "  </thead>\n",
       "  <tbody>\n",
       "    <tr>\n",
       "      <th>고영표</th>\n",
       "      <th>헛스윙</th>\n",
       "      <td>25.1</td>\n",
       "      <td>172</td>\n",
       "    </tr>\n",
       "    <tr>\n",
       "      <th>함덕주</th>\n",
       "      <th>헛스윙</th>\n",
       "      <td>21.1</td>\n",
       "      <td>123</td>\n",
       "    </tr>\n",
       "    <tr>\n",
       "      <th>켈리</th>\n",
       "      <th>헛스윙</th>\n",
       "      <td>20.2</td>\n",
       "      <td>125</td>\n",
       "    </tr>\n",
       "  </tbody>\n",
       "</table>\n",
       "</div>"
      ],
      "text/plain": [
       "                      swstr%  raw_num\n",
       "pitcher pitch_result                 \n",
       "고영표     헛스윙             25.1      172\n",
       "함덕주     헛스윙             21.1      123\n",
       "켈리      헛스윙             20.2      125"
      ]
     },
     "metadata": {},
     "output_type": "display_data"
    },
    {
     "name": "stdout",
     "output_type": "stream",
     "text": [
      "투심\n"
     ]
    },
    {
     "data": {
      "text/html": [
       "<div>\n",
       "<style scoped>\n",
       "    .dataframe tbody tr th:only-of-type {\n",
       "        vertical-align: middle;\n",
       "    }\n",
       "\n",
       "    .dataframe tbody tr th {\n",
       "        vertical-align: top;\n",
       "    }\n",
       "\n",
       "    .dataframe thead th {\n",
       "        text-align: right;\n",
       "    }\n",
       "</style>\n",
       "<table border=\"1\" class=\"dataframe\">\n",
       "  <thead>\n",
       "    <tr style=\"text-align: right;\">\n",
       "      <th></th>\n",
       "      <th></th>\n",
       "      <th>swstr%</th>\n",
       "      <th>raw_num</th>\n",
       "    </tr>\n",
       "    <tr>\n",
       "      <th>pitcher</th>\n",
       "      <th>pitch_result</th>\n",
       "      <th></th>\n",
       "      <th></th>\n",
       "    </tr>\n",
       "  </thead>\n",
       "  <tbody>\n",
       "    <tr>\n",
       "      <th>박희수</th>\n",
       "      <th>헛스윙</th>\n",
       "      <td>12.1</td>\n",
       "      <td>31</td>\n",
       "    </tr>\n",
       "    <tr>\n",
       "      <th>켈리</th>\n",
       "      <th>헛스윙</th>\n",
       "      <td>11.4</td>\n",
       "      <td>38</td>\n",
       "    </tr>\n",
       "    <tr>\n",
       "      <th>원종현</th>\n",
       "      <th>헛스윙</th>\n",
       "      <td>10.8</td>\n",
       "      <td>28</td>\n",
       "    </tr>\n",
       "  </tbody>\n",
       "</table>\n",
       "</div>"
      ],
      "text/plain": [
       "                      swstr%  raw_num\n",
       "pitcher pitch_result                 \n",
       "박희수     헛스윙             12.1       31\n",
       "켈리      헛스윙             11.4       38\n",
       "원종현     헛스윙             10.8       28"
      ]
     },
     "metadata": {},
     "output_type": "display_data"
    },
    {
     "name": "stdout",
     "output_type": "stream",
     "text": [
      "포크\n"
     ]
    },
    {
     "data": {
      "text/html": [
       "<div>\n",
       "<style scoped>\n",
       "    .dataframe tbody tr th:only-of-type {\n",
       "        vertical-align: middle;\n",
       "    }\n",
       "\n",
       "    .dataframe tbody tr th {\n",
       "        vertical-align: top;\n",
       "    }\n",
       "\n",
       "    .dataframe thead th {\n",
       "        text-align: right;\n",
       "    }\n",
       "</style>\n",
       "<table border=\"1\" class=\"dataframe\">\n",
       "  <thead>\n",
       "    <tr style=\"text-align: right;\">\n",
       "      <th></th>\n",
       "      <th></th>\n",
       "      <th>swstr%</th>\n",
       "      <th>raw_num</th>\n",
       "    </tr>\n",
       "    <tr>\n",
       "      <th>pitcher</th>\n",
       "      <th>pitch_result</th>\n",
       "      <th></th>\n",
       "      <th></th>\n",
       "    </tr>\n",
       "  </thead>\n",
       "  <tbody>\n",
       "    <tr>\n",
       "      <th>김진성</th>\n",
       "      <th>헛스윙</th>\n",
       "      <td>26.4</td>\n",
       "      <td>155</td>\n",
       "    </tr>\n",
       "    <tr>\n",
       "      <th>이민호</th>\n",
       "      <th>헛스윙</th>\n",
       "      <td>23.0</td>\n",
       "      <td>80</td>\n",
       "    </tr>\n",
       "    <tr>\n",
       "      <th>최충연</th>\n",
       "      <th>헛스윙</th>\n",
       "      <td>22.3</td>\n",
       "      <td>65</td>\n",
       "    </tr>\n",
       "  </tbody>\n",
       "</table>\n",
       "</div>"
      ],
      "text/plain": [
       "                      swstr%  raw_num\n",
       "pitcher pitch_result                 \n",
       "김진성     헛스윙             26.4      155\n",
       "이민호     헛스윙             23.0       80\n",
       "최충연     헛스윙             22.3       65"
      ]
     },
     "metadata": {},
     "output_type": "display_data"
    },
    {
     "name": "stdout",
     "output_type": "stream",
     "text": [
      "싱커 pass\n",
      "커터\n"
     ]
    },
    {
     "data": {
      "text/html": [
       "<div>\n",
       "<style scoped>\n",
       "    .dataframe tbody tr th:only-of-type {\n",
       "        vertical-align: middle;\n",
       "    }\n",
       "\n",
       "    .dataframe tbody tr th {\n",
       "        vertical-align: top;\n",
       "    }\n",
       "\n",
       "    .dataframe thead th {\n",
       "        text-align: right;\n",
       "    }\n",
       "</style>\n",
       "<table border=\"1\" class=\"dataframe\">\n",
       "  <thead>\n",
       "    <tr style=\"text-align: right;\">\n",
       "      <th></th>\n",
       "      <th></th>\n",
       "      <th>swstr%</th>\n",
       "      <th>raw_num</th>\n",
       "    </tr>\n",
       "    <tr>\n",
       "      <th>pitcher</th>\n",
       "      <th>pitch_result</th>\n",
       "      <th></th>\n",
       "      <th></th>\n",
       "    </tr>\n",
       "  </thead>\n",
       "  <tbody>\n",
       "    <tr>\n",
       "      <th>손승락</th>\n",
       "      <th>헛스윙</th>\n",
       "      <td>14.3</td>\n",
       "      <td>67</td>\n",
       "    </tr>\n",
       "    <tr>\n",
       "      <th>켈리</th>\n",
       "      <th>헛스윙</th>\n",
       "      <td>14.1</td>\n",
       "      <td>74</td>\n",
       "    </tr>\n",
       "    <tr>\n",
       "      <th>허프</th>\n",
       "      <th>헛스윙</th>\n",
       "      <td>9.3</td>\n",
       "      <td>53</td>\n",
       "    </tr>\n",
       "  </tbody>\n",
       "</table>\n",
       "</div>"
      ],
      "text/plain": [
       "                      swstr%  raw_num\n",
       "pitcher pitch_result                 \n",
       "손승락     헛스윙             14.3       67\n",
       "켈리      헛스윙             14.1       74\n",
       "허프      헛스윙              9.3       53"
      ]
     },
     "metadata": {},
     "output_type": "display_data"
    },
    {
     "name": "stdout",
     "output_type": "stream",
     "text": [
      "너클볼\n"
     ]
    },
    {
     "data": {
      "text/html": [
       "<div>\n",
       "<style scoped>\n",
       "    .dataframe tbody tr th:only-of-type {\n",
       "        vertical-align: middle;\n",
       "    }\n",
       "\n",
       "    .dataframe tbody tr th {\n",
       "        vertical-align: top;\n",
       "    }\n",
       "\n",
       "    .dataframe thead th {\n",
       "        text-align: right;\n",
       "    }\n",
       "</style>\n",
       "<table border=\"1\" class=\"dataframe\">\n",
       "  <thead>\n",
       "    <tr style=\"text-align: right;\">\n",
       "      <th></th>\n",
       "      <th></th>\n",
       "      <th>swstr%</th>\n",
       "      <th>raw_num</th>\n",
       "    </tr>\n",
       "    <tr>\n",
       "      <th>pitcher</th>\n",
       "      <th>pitch_result</th>\n",
       "      <th></th>\n",
       "      <th></th>\n",
       "    </tr>\n",
       "  </thead>\n",
       "  <tbody>\n",
       "    <tr>\n",
       "      <th>피어밴드</th>\n",
       "      <th>헛스윙</th>\n",
       "      <td>11.6</td>\n",
       "      <td>49</td>\n",
       "    </tr>\n",
       "  </tbody>\n",
       "</table>\n",
       "</div>"
      ],
      "text/plain": [
       "                      swstr%  raw_num\n",
       "pitcher pitch_result                 \n",
       "피어밴드    헛스윙             11.6       49"
      ]
     },
     "metadata": {},
     "output_type": "display_data"
    }
   ],
   "source": [
    "# swstr% 구하기; swstr% = 헛스윙/전체 pitch (구종별)\n",
    "sub_df = pd.DataFrame({'pitcher': df.pitcher, 'pitch_type': df.pitch_type, 'pitch_result': df.pitch_result, 'swstr%': 1})\n",
    "\n",
    "# 구종 종류\n",
    "pitch_types = df.pitch_type.drop_duplicates()\n",
    "\n",
    "# 최소 투구수; 구종별\n",
    "pitch_threshold = 250\n",
    "\n",
    "for pitch in pitch_types:\n",
    "    # 해당 구종만 분류; 투수 그룹으로 묶음\n",
    "    pitchers = sub_df.loc[sub_df.pitch_type == pitch].groupby(['pitcher'])\n",
    "    \n",
    "    # 최소 투구수 넘는 경우만 필터\n",
    "    filtered = pitchers.filter(lambda x: x['swstr%'].sum() > pitch_threshold)\n",
    "    \n",
    "    # 필터 통과한 투수 목록\n",
    "    l = filtered.pitcher.drop_duplicates()\n",
    "    \n",
    "    # 특정 구종은 투수가 없는 경우도 있음 - 이런 경우는 패스\n",
    "    if len(l) == 0:\n",
    "        print(pitch + ' pass')\n",
    "        continue\n",
    "        \n",
    "    # 구종 필터 걸고, 투수-투구결과(헛스윙/타격/파울 등)로 그룹\n",
    "    swstrs = sub_df.loc[ (sub_df.pitcher.isin(list(l))) &\n",
    "                         (sub_df.pitch_type == pitch) ].groupby(['pitcher', 'pitch_result']).agg({'swstr%': 'sum'})\n",
    "\n",
    "    # pitch result별 swstr%를 구종 투구수 전체로 나눔; 이렇게하면 swstr%가 퍼센티지로 나옴.\n",
    "    swstr_pcts = swstrs.groupby(level=0).apply(lambda x: 100*x/x.sum())\n",
    "    \n",
    "    # 헛스윙 raw num 컬럼도 하나 표시.\n",
    "    swstr_pcts['raw_num'] = swstrs['swstr%']\n",
    "    \n",
    "    print(pitch)\n",
    "    result = swstr_pcts.iloc[swstr_pcts.index.get_level_values('pitch_result') == '헛스윙'].sort_values('swstr%', ascending=False)\n",
    "\n",
    "    display(result[:3])"
   ]
  }
 ],
 "metadata": {
  "kernelspec": {
   "display_name": "Python 3",
   "language": "python",
   "name": "python3"
  },
  "language_info": {
   "codemirror_mode": {
    "name": "ipython",
    "version": 3
   },
   "file_extension": ".py",
   "mimetype": "text/x-python",
   "name": "python",
   "nbconvert_exporter": "python",
   "pygments_lexer": "ipython3",
   "version": "3.6.4"
  }
 },
 "nbformat": 4,
 "nbformat_minor": 2
}
